{
 "cells": [
  {
   "cell_type": "code",
   "execution_count": 9,
   "id": "b0ff5614",
   "metadata": {},
   "outputs": [],
   "source": [
    "from sklearn.feature_extraction.text import CountVectorizer\n",
    "from sklearn.naive_bayes import MultinomialNB\n",
    "from sklearn.model_selection import GridSearchCV, cross_val_score\n",
    "from sklearn.metrics import f1_score\n",
    "from sklearn.datasets import fetch_20newsgroups\n",
    "import numpy as np\n",
    "from sklearn.model_selection import KFold\n",
    "from sklearn.metrics import f1_score\n",
    "\n",
    "import torch\n",
    "import torch.nn as nn\n",
    "import torch.optim as optim\n",
    "from torch.utils.data import DataLoader, TensorDataset"
   ]
  },
  {
   "cell_type": "code",
   "execution_count": 10,
   "id": "d6199396",
   "metadata": {},
   "outputs": [],
   "source": [
    "groups = ['alt.atheism', 'rec.sport.baseball', 'sci.space']\n",
    "\n",
    "# Load the 20 newsgroups dataset, we set it with only 3 categories to save time, you can change it to all categories by removing the 'categories' parameter\n",
    "train_data = fetch_20newsgroups(shuffle=True, random_state=42, categories=groups)\n",
    "\n",
    "# Convert text data into a matrix of token counts\n",
    "vectorizer = CountVectorizer()\n",
    "X = vectorizer.fit_transform(train_data.data)\n",
    "y = train_data.target"
   ]
  },
  {
   "cell_type": "code",
   "execution_count": 11,
   "id": "126507b1",
   "metadata": {},
   "outputs": [
    {
     "data": {
      "text/plain": [
       "((1670, 27427), (1670,))"
      ]
     },
     "execution_count": 11,
     "metadata": {},
     "output_type": "execute_result"
    }
   ],
   "source": [
    "X.shape, y.shape"
   ]
  },
  {
   "cell_type": "code",
   "execution_count": 12,
   "id": "2176fd5b",
   "metadata": {},
   "outputs": [
    {
     "name": "stdout",
     "output_type": "stream",
     "text": [
      "Mean Cross-Validation Score: 0.9934383662042003\n"
     ]
    }
   ],
   "source": [
    "# Define the parameter grid to search\n",
    "param_grid = {'alpha': [0.1, 0.5, 1.0]}\n",
    "\n",
    "# Perform GridSearchCV with 5-fold cross-validation\n",
    "classifier = MultinomialNB()\n",
    "grid_search = GridSearchCV(classifier, param_grid, cv=5)\n",
    "grid_search.fit(X, y)\n",
    "\n",
    "# Get the best model\n",
    "best_classifier = grid_search.best_estimator_\n",
    "\n",
    "# Evaluate the best model using cross-validation\n",
    "cv_scores = cross_val_score(best_classifier, X, y, cv=5, scoring='f1_macro')\n",
    "mean_cv_score = cv_scores.mean()\n",
    "print(f'Mean Cross-Validation Score: {mean_cv_score}')"
   ]
  },
  {
   "cell_type": "code",
   "execution_count": 13,
   "id": "55d0d7ce",
   "metadata": {},
   "outputs": [
    {
     "data": {
      "text/html": [
       "<div>\n",
       "<style scoped>\n",
       "    .dataframe tbody tr th:only-of-type {\n",
       "        vertical-align: middle;\n",
       "    }\n",
       "\n",
       "    .dataframe tbody tr th {\n",
       "        vertical-align: top;\n",
       "    }\n",
       "\n",
       "    .dataframe thead th {\n",
       "        text-align: right;\n",
       "    }\n",
       "</style>\n",
       "<table border=\"1\" class=\"dataframe\">\n",
       "  <thead>\n",
       "    <tr style=\"text-align: right;\">\n",
       "      <th></th>\n",
       "      <th>mean_fit_time</th>\n",
       "      <th>std_fit_time</th>\n",
       "      <th>mean_score_time</th>\n",
       "      <th>std_score_time</th>\n",
       "      <th>param_alpha</th>\n",
       "      <th>params</th>\n",
       "      <th>split0_test_score</th>\n",
       "      <th>split1_test_score</th>\n",
       "      <th>split2_test_score</th>\n",
       "      <th>split3_test_score</th>\n",
       "      <th>split4_test_score</th>\n",
       "      <th>mean_test_score</th>\n",
       "      <th>std_test_score</th>\n",
       "      <th>rank_test_score</th>\n",
       "    </tr>\n",
       "  </thead>\n",
       "  <tbody>\n",
       "    <tr>\n",
       "      <th>0</th>\n",
       "      <td>0.001659</td>\n",
       "      <td>0.000261</td>\n",
       "      <td>0.000437</td>\n",
       "      <td>0.000042</td>\n",
       "      <td>0.1</td>\n",
       "      <td>{'alpha': 0.1}</td>\n",
       "      <td>0.994012</td>\n",
       "      <td>0.994012</td>\n",
       "      <td>0.985030</td>\n",
       "      <td>0.997006</td>\n",
       "      <td>0.997006</td>\n",
       "      <td>0.993413</td>\n",
       "      <td>0.004400</td>\n",
       "      <td>1</td>\n",
       "    </tr>\n",
       "    <tr>\n",
       "      <th>1</th>\n",
       "      <td>0.001192</td>\n",
       "      <td>0.000028</td>\n",
       "      <td>0.000394</td>\n",
       "      <td>0.000018</td>\n",
       "      <td>0.5</td>\n",
       "      <td>{'alpha': 0.5}</td>\n",
       "      <td>0.994012</td>\n",
       "      <td>0.988024</td>\n",
       "      <td>0.982036</td>\n",
       "      <td>0.997006</td>\n",
       "      <td>0.994012</td>\n",
       "      <td>0.991018</td>\n",
       "      <td>0.005356</td>\n",
       "      <td>2</td>\n",
       "    </tr>\n",
       "    <tr>\n",
       "      <th>2</th>\n",
       "      <td>0.001446</td>\n",
       "      <td>0.000146</td>\n",
       "      <td>0.000394</td>\n",
       "      <td>0.000018</td>\n",
       "      <td>1.0</td>\n",
       "      <td>{'alpha': 1.0}</td>\n",
       "      <td>0.994012</td>\n",
       "      <td>0.988024</td>\n",
       "      <td>0.985030</td>\n",
       "      <td>0.997006</td>\n",
       "      <td>0.991018</td>\n",
       "      <td>0.991018</td>\n",
       "      <td>0.004234</td>\n",
       "      <td>2</td>\n",
       "    </tr>\n",
       "  </tbody>\n",
       "</table>\n",
       "</div>"
      ],
      "text/plain": [
       "   mean_fit_time  std_fit_time  mean_score_time  std_score_time  param_alpha  \\\n",
       "0       0.001659      0.000261         0.000437        0.000042          0.1   \n",
       "1       0.001192      0.000028         0.000394        0.000018          0.5   \n",
       "2       0.001446      0.000146         0.000394        0.000018          1.0   \n",
       "\n",
       "           params  split0_test_score  split1_test_score  split2_test_score  \\\n",
       "0  {'alpha': 0.1}           0.994012           0.994012           0.985030   \n",
       "1  {'alpha': 0.5}           0.994012           0.988024           0.982036   \n",
       "2  {'alpha': 1.0}           0.994012           0.988024           0.985030   \n",
       "\n",
       "   split3_test_score  split4_test_score  mean_test_score  std_test_score  \\\n",
       "0           0.997006           0.997006         0.993413        0.004400   \n",
       "1           0.997006           0.994012         0.991018        0.005356   \n",
       "2           0.997006           0.991018         0.991018        0.004234   \n",
       "\n",
       "   rank_test_score  \n",
       "0                1  \n",
       "1                2  \n",
       "2                2  "
      ]
     },
     "execution_count": 13,
     "metadata": {},
     "output_type": "execute_result"
    }
   ],
   "source": [
    "import pandas as pd\n",
    "pd.DataFrame(grid_search.cv_results_)"
   ]
  },
  {
   "cell_type": "code",
   "execution_count": 14,
   "id": "bf4f4cad",
   "metadata": {},
   "outputs": [
    {
     "name": "stdout",
     "output_type": "stream",
     "text": [
      "Test Set F1 Score: 0.9751950960932954\n"
     ]
    }
   ],
   "source": [
    "# Predict on the test set\n",
    "test_data = fetch_20newsgroups(subset='test', shuffle=True, random_state=42, categories=groups)\n",
    "X_test = vectorizer.transform(test_data.data)\n",
    "y_test = test_data.target\n",
    "\n",
    "predictions = best_classifier.predict(X_test)\n",
    "\n",
    "# Calculate F1 score\n",
    "f1 = f1_score(y_test, predictions, average='macro')\n",
    "print(f'Test Set F1 Score: {f1}')"
   ]
  },
  {
   "cell_type": "code",
   "execution_count": 15,
   "id": "b6195207",
   "metadata": {},
   "outputs": [],
   "source": [
    "# A simple toy classifier\n",
    "class LSTMClassifier(nn.Module):\n",
    "    def __init__(self, vocab_size, embedding_dim, hidden_dim, output_dim):\n",
    "        super(LSTMClassifier, self).__init__()\n",
    "        self.embedding = nn.Embedding(vocab_size, embedding_dim)\n",
    "        self.lstm = nn.LSTM(embedding_dim, hidden_dim)\n",
    "        self.fc = nn.Linear(hidden_dim, output_dim)\n",
    "\n",
    "    def forward(self, x):\n",
    "        embedded = self.embedding(x)\n",
    "        output, (hidden, cell) = self.lstm(embedded)\n",
    "        # extract only the last time step\n",
    "        return self.fc(output[:, -1, :])"
   ]
  },
  {
   "cell_type": "code",
   "execution_count": 16,
   "id": "9ece935b",
   "metadata": {},
   "outputs": [
    {
     "name": "stdout",
     "output_type": "stream",
     "text": [
      "Split1\n",
      "Loss: 1.0932898935443627\n",
      "F1 score: 0.17512877115526124\n",
      "Split2\n",
      "Loss: 1.0915464405528086\n",
      "F1 score: 0.1867816091954023\n",
      "Split3\n",
      "Loss: 1.0942164770143474\n",
      "F1 score: 0.1783625730994152\n",
      "Split4\n",
      "Loss: 1.0984142072900327\n",
      "F1 score: 0.17074981440237566\n",
      "Split5\n",
      "Loss: 1.0937744421873263\n",
      "F1 score: 0.1762114537444934\n"
     ]
    }
   ],
   "source": [
    "# Define hyperparameters\n",
    "device = 'cuda' if torch.cuda.is_available() else 'cpu'\n",
    "vocab_size = len(vectorizer.get_feature_names_out())\n",
    "embedding_dim = 100\n",
    "hidden_dim = 128\n",
    "output_dim = len(np.unique(y))\n",
    "batch_size = 8\n",
    "training_epochs = 3\n",
    "\n",
    "# Perform 5-fold cross-validation with early stop\n",
    "kf = KFold(n_splits=5, shuffle=True, random_state=42)\n",
    "scores = []\n",
    "for i, (train_index, val_index) in enumerate(kf.split(X)):\n",
    "    X_train, X_val = X[train_index], X[val_index]\n",
    "    y_train, y_val = y[train_index], y[val_index]\n",
    "    \n",
    "    # Convert data to tensors\n",
    "    X_train_tensor = torch.tensor(X_train.toarray(), dtype=torch.long)\n",
    "    y_train_tensor = torch.tensor(y_train, dtype=torch.long)\n",
    "    X_val_tensor = torch.tensor(X_val.toarray(), dtype=torch.long)\n",
    "    y_val_tensor = torch.tensor(y_val, dtype=torch.long)\n",
    "    \n",
    "    # DataLoader\n",
    "    train_data = TensorDataset(X_train_tensor, y_train_tensor)\n",
    "    train_loader = DataLoader(train_data, batch_size=batch_size)\n",
    "    val_data = TensorDataset(X_val_tensor, y_val_tensor)\n",
    "    val_loader = DataLoader(val_data, batch_size=1)\n",
    "    \n",
    "    model = LSTMClassifier(vocab_size, embedding_dim, hidden_dim, output_dim)\n",
    "    model.to(device)\n",
    "    criterion = nn.CrossEntropyLoss()\n",
    "    optimizer = optim.Adam(model.parameters(), lr=1e-3)\n",
    "    \n",
    "    model.train()\n",
    "    for epoch in range(training_epochs):\n",
    "        for data, target in train_loader:\n",
    "            optimizer.zero_grad()\n",
    "            output = model(data.to(device))\n",
    "            loss = criterion(output.to(device), target.to(device))\n",
    "            loss.backward()\n",
    "            \n",
    "            # Clip gradients\n",
    "            torch.nn.utils.clip_grad_value_(model.parameters(), clip_value=0.5)\n",
    "            optimizer.step()\n",
    "\n",
    "    model.eval()\n",
    "    with torch.no_grad():\n",
    "        truth = []\n",
    "        preds = []\n",
    "        val_loss = []\n",
    "        for data, target in val_loader:\n",
    "            output = model(data.to(device))\n",
    "            _, predicted = torch.max(output, 1)\n",
    "            preds.append(predicted.detach().cpu().numpy())\n",
    "            truth.append(target.numpy())\n",
    "            val_loss.append(criterion(output.to(device), target.to(device)).item())\n",
    "        f1 = f1_score(np.concatenate(truth), np.concatenate(preds), average='macro')\n",
    "        print(f'Split{i+1}\\nLoss: {np.mean(val_loss)}\\nF1 score: {f1}')"
   ]
  },
  {
   "cell_type": "code",
   "execution_count": 17,
   "id": "2274ae34",
   "metadata": {},
   "outputs": [
    {
     "name": "stdout",
     "output_type": "stream",
     "text": [
      "F1 score: 0.17464539007092197\n"
     ]
    }
   ],
   "source": [
    "X_test_tensor = torch.tensor(X_test.toarray(), dtype=torch.long)\n",
    "y_test_tensor = torch.tensor(y_test, dtype=torch.long)\n",
    "test_data = TensorDataset(X_test_tensor, y_test_tensor)\n",
    "test_loader = DataLoader(test_data, batch_size=1)\n",
    "model.eval()\n",
    "with torch.no_grad():\n",
    "    truth = []\n",
    "    preds = []\n",
    "    for data, target in test_loader:\n",
    "        output = model(data.to(device))\n",
    "        _, predicted = torch.max(output, 1)\n",
    "        preds.append(predicted.detach().cpu().numpy())\n",
    "        truth.append(target.numpy())\n",
    "    f1 = f1_score(np.concatenate(truth), np.concatenate(preds), average='macro')\n",
    "    print(f'F1 score: {f1}')"
   ]
  }
 ],
 "metadata": {
  "kernelspec": {
   "display_name": ".venv (3.13.7)",
   "language": "python",
   "name": "python3"
  },
  "language_info": {
   "codemirror_mode": {
    "name": "ipython",
    "version": 3
   },
   "file_extension": ".py",
   "mimetype": "text/x-python",
   "name": "python",
   "nbconvert_exporter": "python",
   "pygments_lexer": "ipython3",
   "version": "3.13.7"
  }
 },
 "nbformat": 4,
 "nbformat_minor": 5
}
