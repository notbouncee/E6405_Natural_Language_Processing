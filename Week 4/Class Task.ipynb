{
 "cells": [
  {
   "cell_type": "code",
   "execution_count": null,
   "metadata": {},
   "outputs": [
    {
     "name": "stdout",
     "output_type": "stream",
     "text": [
      "Requirement already satisfied: xgboost in /Users/hehvince/Desktop/LTU/Cycle 4/D7047E Advanced Deep Learning/.conda/lib/python3.12/site-packages (3.0.5)\n",
      "Requirement already satisfied: numpy in /Users/hehvince/Desktop/LTU/Cycle 4/D7047E Advanced Deep Learning/.conda/lib/python3.12/site-packages (from xgboost) (2.2.4)\n",
      "Requirement already satisfied: scipy in /Users/hehvince/Desktop/LTU/Cycle 4/D7047E Advanced Deep Learning/.conda/lib/python3.12/site-packages (from xgboost) (1.15.2)\n"
     ]
    },
    {
     "name": "stderr",
     "output_type": "stream",
     "text": [
      "/Users/hehvince/Desktop/LTU/Cycle 4/D7047E Advanced Deep Learning/.conda/lib/python3.12/site-packages/xgboost/training.py:183: UserWarning: [20:04:09] WARNING: /Users/runner/work/xgboost/xgboost/src/learner.cc:738: \n",
      "Parameters: { \"use_label_encoder\" } are not used.\n",
      "\n",
      "  bst.update(dtrain, iteration=i, fobj=obj)\n"
     ]
    },
    {
     "name": "stdout",
     "output_type": "stream",
     "text": [
      "Classification Report:\n",
      "                     precision    recall  f1-score   support\n",
      "\n",
      "       alt.atheism       0.86      0.69      0.77       200\n",
      "     comp.graphics       0.93      0.83      0.88       243\n",
      "           sci.med       0.67      0.90      0.77       248\n",
      "talk.politics.misc       0.83      0.76      0.80       194\n",
      "\n",
      "          accuracy                           0.80       885\n",
      "         macro avg       0.83      0.79      0.80       885\n",
      "      weighted avg       0.82      0.80      0.80       885\n",
      "\n",
      "Macro-F1: 0.802, Micro-F1: 0.802\n",
      "ROC-AUC (macro): 0.960, ROC-AUC (micro): 0.959\n"
     ]
    }
   ],
   "source": [
    "# !pip install xgboost\n",
    "\n",
    "from sklearn.datasets import fetch_20newsgroups\n",
    "from sklearn.feature_extraction.text import TfidfVectorizer\n",
    "from sklearn.model_selection import train_test_split\n",
    "from xgboost import XGBClassifier\n",
    "from sklearn.metrics import classification_report, f1_score, roc_auc_score\n",
    "from sklearn.preprocessing import label_binarize\n",
    "import numpy as np\n",
    "\n",
    "# 1. Load 20 Newsgroups (subset of categories for speed, optional)\n",
    "categories = ['alt.atheism', 'comp.graphics', 'sci.med', 'talk.politics.misc']\n",
    "data = fetch_20newsgroups(subset='all', categories=categories, remove=('headers','footers','quotes'))\n",
    "\n",
    "X_train, X_test, y_train, y_test = train_test_split(\n",
    "    data.data, data.target, test_size=0.25, random_state=42, stratify=data.target\n",
    ")\n",
    "\n",
    "# 2. TF-IDF vectorization\n",
    "vect = TfidfVectorizer(max_features=20_000, ngram_range=(1,2), stop_words='english')\n",
    "X_train_tfidf = vect.fit_transform(X_train)\n",
    "X_test_tfidf  = vect.transform(X_test)\n",
    "\n",
    "# 3. Fit XGBoost (multi-class)\n",
    "model = XGBClassifier(\n",
    "    objective='multi:softprob',\n",
    "    eval_metric='mlogloss',\n",
    "    use_label_encoder=False,\n",
    "    n_estimators=100,\n",
    "    max_depth=6,\n",
    "    learning_rate=0.1,\n",
    "    random_state=42,\n",
    ")\n",
    "model.fit(X_train_tfidf, y_train)\n",
    "\n",
    "# 4a. Classification report (Precision, Recall, F1 per class)\n",
    "y_pred = model.predict(X_test_tfidf)\n",
    "print(\"Classification Report:\\n\", classification_report(y_test, y_pred, target_names=data.target_names))\n",
    "\n",
    "# 4b. Macro / Micro F1\n",
    "macro_f1 = f1_score(y_test, y_pred, average='macro')\n",
    "micro_f1 = f1_score(y_test, y_pred, average='micro')\n",
    "print(f\"Macro-F1: {macro_f1:.3f}, Micro-F1: {micro_f1:.3f}\")\n",
    "\n",
    "# 4c. AUC-ROC (One-vs-Rest)\n",
    "y_score = model.predict_proba(X_test_tfidf)\n",
    "y_test_binarized = label_binarize(y_test, classes=np.arange(len(categories)))\n",
    "roc_auc_macro = roc_auc_score(y_test_binarized, y_score, average='macro', multi_class='ovr')\n",
    "roc_auc_micro = roc_auc_score(y_test_binarized, y_score, average='micro', multi_class='ovr')\n",
    "print(f\"ROC-AUC (macro): {roc_auc_macro:.3f}, ROC-AUC (micro): {roc_auc_micro:.3f}\")\n"
   ]
  }
 ],
 "metadata": {
  "kernelspec": {
   "display_name": ".conda",
   "language": "python",
   "name": "python3"
  },
  "language_info": {
   "codemirror_mode": {
    "name": "ipython",
    "version": 3
   },
   "file_extension": ".py",
   "mimetype": "text/x-python",
   "name": "python",
   "nbconvert_exporter": "python",
   "pygments_lexer": "ipython3",
   "version": "3.12.9"
  }
 },
 "nbformat": 4,
 "nbformat_minor": 2
}
