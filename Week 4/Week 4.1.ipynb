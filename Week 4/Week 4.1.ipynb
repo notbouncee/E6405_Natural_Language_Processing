{
 "cells": [
  {
   "cell_type": "markdown",
   "metadata": {},
   "source": [
    "## Text Classification\n",
    "In this notebook, we will introduce some popular supervised and unsupervised learning techniques for text classification."
   ]
  },
  {
   "cell_type": "code",
   "execution_count": 1,
   "metadata": {},
   "outputs": [
    {
     "name": "stdout",
     "output_type": "stream",
     "text": [
      "Train\n",
      "(3, 18) [1 1 0]\n",
      "Test\n",
      "(3, 18) [0 0 1]\n",
      "Feature size and names:\n",
      "18 ['10' 'am' 'at' 'coming' 'day' 'due' 'exam' 'for' 'homework' 'is'\n",
      " 'lecture' 'meeting' 'pm' 'project' 'quiz' 'the' 'tomorrow' 'yesterday']\n"
     ]
    }
   ],
   "source": [
    "# data vectorization before any machine learning algorithm is applied\n",
    "import numpy as np\n",
    "from sklearn.feature_extraction.text import CountVectorizer, TfidfVectorizer\n",
    "from sklearn.model_selection import train_test_split\n",
    "\n",
    "corpus = [\"Quiz yesterday\", \"Homework for the day\", \"Meeting at 10 AM\", \n",
    "          \"Lecture at 7 PM\", \"Project due tomorrow\", \"Exam is coming\"]\n",
    "labels = np.array([1, 1, 0, 0, 0, 1])\n",
    "\n",
    "# Convert text to TF-IDF features\n",
    "vectorizer = TfidfVectorizer()\n",
    "X = vectorizer.fit_transform(corpus).toarray()\n",
    "\n",
    "# Train-test split\n",
    "X_train, X_test, y_train, y_test = train_test_split(X, labels, test_size=0.5, stratify=labels, random_state=42)\n",
    "print(\"Train\")\n",
    "print(X_train.shape, y_train)\n",
    "print(\"Test\")\n",
    "print(X_test.shape, y_test)\n",
    "print(\"Feature size and names:\")\n",
    "print(len(vectorizer.get_feature_names_out()), vectorizer.get_feature_names_out())"
   ]
  },
  {
   "cell_type": "markdown",
   "metadata": {},
   "source": [
    "### 1. Naive Bayes Classifier\n",
    "A supervised learning algorithm that is based on Bayes' theorem. It is called \"naive\" because it assumes that all the features are conditionally independent of each other. "
   ]
  },
  {
   "cell_type": "code",
   "execution_count": 2,
   "metadata": {},
   "outputs": [
    {
     "name": "stdout",
     "output_type": "stream",
     "text": [
      "Predictions: [1 1 1]\n",
      "Labels: [0 0 1]\n"
     ]
    }
   ],
   "source": [
    "from sklearn.naive_bayes import MultinomialNB, GaussianNB, CategoricalNB\n",
    "\n",
    "# Train Naive Bayes classifier, try with different models yourself\n",
    "nb = MultinomialNB()\n",
    "nb.fit(X_train, y_train)\n",
    "\n",
    "# Predict\n",
    "predictions = nb.predict(X_test)\n",
    "print(\"Predictions:\", predictions)\n",
    "print(\"Labels:\", y_test)"
   ]
  },
  {
   "cell_type": "markdown",
   "metadata": {},
   "source": [
    "### 2. Support Vector Machines\n",
    "A powerful and versatile machine learning algorithm that can be used for both classification and regression tasks."
   ]
  },
  {
   "cell_type": "code",
   "execution_count": 3,
   "metadata": {},
   "outputs": [
    {
     "name": "stdout",
     "output_type": "stream",
     "text": [
      "Predictions: [1 1 1]\n",
      "Labels: [0 0 1]\n"
     ]
    }
   ],
   "source": [
    "from sklearn import svm\n",
    "\n",
    "# Train SVC model\n",
    "svm = svm.SVC(kernel='linear')\n",
    "svm.fit(X_train, y_train)\n",
    "\n",
    "# Predict\n",
    "predictions = svm.predict(X_test)\n",
    "print(\"Predictions:\", predictions)\n",
    "print(\"Labels:\", y_test)"
   ]
  },
  {
   "cell_type": "markdown",
   "metadata": {},
   "source": [
    "### 3. Extreme Learning Machine (ELM)\n",
    "A single-layer feedforward neural network with randomly initialized weights and biases. "
   ]
  },
  {
   "cell_type": "code",
   "execution_count": 4,
   "metadata": {},
   "outputs": [
    {
     "name": "stdout",
     "output_type": "stream",
     "text": [
      "Predictions: [0. 1. 1.]\n",
      "Labels: [0 0 1]\n"
     ]
    }
   ],
   "source": [
    "from hpelm import ELM \n",
    "\n",
    "elm = ELM(X_train.shape[1], 1)\n",
    "elm.add_neurons(10, 'sigm')  # Add 10 sigmoid neurons\n",
    "elm.train(X_train, y_train)\n",
    "\n",
    "# Predict\n",
    "predictions = elm.predict(X_test).round().flatten()\n",
    "print(\"Predictions:\", predictions)\n",
    "print(\"Labels:\", y_test)"
   ]
  },
  {
   "cell_type": "markdown",
   "metadata": {},
   "source": [
    "### 4. Gaussian Processes\n",
    "Non-parametric models that provide uncertainty estimates for predictions."
   ]
  },
  {
   "cell_type": "code",
   "execution_count": 5,
   "metadata": {},
   "outputs": [
    {
     "name": "stdout",
     "output_type": "stream",
     "text": [
      "Predictions: [1 0 1]\n",
      "Labels: [0 0 1]\n"
     ]
    }
   ],
   "source": [
    "from sklearn.gaussian_process import GaussianProcessClassifier\n",
    "from sklearn.gaussian_process.kernels import RBF\n",
    "\n",
    "# Train Gaussian Process Classifier\n",
    "gpc = GaussianProcessClassifier(kernel=RBF())\n",
    "gpc.fit(X_train, y_train)\n",
    "\n",
    "# Predict\n",
    "predictions = gpc.predict(X_test)\n",
    "print(\"Predictions:\", predictions)\n",
    "print(\"Labels:\", y_test)"
   ]
  },
  {
   "cell_type": "markdown",
   "metadata": {},
   "source": [
    "### 5. Linear Regression\n",
    "IT predicts a continuous value and can be used in NLP for tasks like sentiment scoring or text-based numerical predictions."
   ]
  },
  {
   "cell_type": "code",
   "execution_count": 6,
   "metadata": {},
   "outputs": [
    {
     "name": "stdout",
     "output_type": "stream",
     "text": [
      "Predictions: [0.66666667 0.52357228 0.66666667]\n",
      "Labels: [0 0 1]\n"
     ]
    }
   ],
   "source": [
    "from sklearn.linear_model import LinearRegression\n",
    "\n",
    "# Train Linear Regression\n",
    "lr = LinearRegression()\n",
    "lr.fit(X_train, y_train)\n",
    "\n",
    "# Predict scores\n",
    "predictions = lr.predict(X_test)\n",
    "print(\"Predictions:\", predictions)\n",
    "print(\"Labels:\", y_test)"
   ]
  },
  {
   "cell_type": "markdown",
   "metadata": {},
   "source": [
    "### 6. CLustering\n",
    "It groups data points into clusters based on their similarity, often used for document grouping or topic discovery. "
   ]
  },
  {
   "cell_type": "code",
   "execution_count": 7,
   "metadata": {},
   "outputs": [
    {
     "name": "stdout",
     "output_type": "stream",
     "text": [
      "Cluster Labels: [0 1 0 0 1 1]\n"
     ]
    }
   ],
   "source": [
    "# K-Means\n",
    "from sklearn.cluster import KMeans\n",
    " \n",
    "kmeans = KMeans(n_clusters=2, random_state=42)\n",
    "kmeans.fit(X)\n",
    "\n",
    "# Print cluster assignments\n",
    "print(\"Cluster Labels:\", kmeans.labels_)"
   ]
  },
  {
   "cell_type": "code",
   "execution_count": 8,
   "metadata": {},
   "outputs": [
    {
     "name": "stdout",
     "output_type": "stream",
     "text": [
      "Cluster Assignments: [1 1 0 0 1 1]\n"
     ]
    }
   ],
   "source": [
    "# Hierarchical Clustering\n",
    "from scipy.cluster.hierarchy import linkage, dendrogram, fcluster\n",
    "import matplotlib.pyplot as plt\n",
    "\n",
    "# Compute linkage matrix, using ward method. Change the method for different linkage\n",
    "linkage_matrix = linkage(X, method='ward')\n",
    "\n",
    "# Assign clusters\n",
    "clusters = fcluster(linkage_matrix, t=2, criterion='maxclust')\n",
    "print(\"Cluster Assignments:\", clusters-1)"
   ]
  },
  {
   "cell_type": "code",
   "execution_count": 9,
   "metadata": {},
   "outputs": [
    {
     "data": {
      "image/png": "[encoded data removed]",
      "text/plain": [
       "<Figure size 640x480 with 1 Axes>"
      ]
     },
     "metadata": {},
     "output_type": "display_data"
    }
   ],
   "source": [
    "# Plot dendrogram\n",
    "dendrogram(linkage_matrix)\n",
    "plt.show()"
   ]
  },
  {
   "cell_type": "code",
   "execution_count": 10,
   "metadata": {},
   "outputs": [
    {
     "name": "stdout",
     "output_type": "stream",
     "text": [
      "Membership probabilities:\n",
      " [[0.42857143 0.57142857]\n",
      " [0.48848529 0.51151471]\n",
      " [0.42857143 0.57142857]]\n",
      "Cluster assignment (not in the order of the original labels):\n",
      " [1. 1. 1.]\n",
      "Labels: [0 0 1]\n"
     ]
    }
   ],
   "source": [
    "# Fuzzy clustering\n",
    "from fuzzycmeans import FCM\n",
    "\n",
    "# Apply Fuzzy C-Means\n",
    "fcm = FCM(n_clusters=2, max_iter=5)\n",
    "fcm.fit(X_train, y_train)\n",
    "predictions = fcm.predict(X_test)\n",
    "\n",
    "print(\"Membership probabilities:\\n\", predictions)\n",
    "print(\"Cluster assignment (not in the order of the original labels):\\n\", predictions[:, 1].round())\n",
    "print(\"Labels:\", y_test)"
   ]
  },
  {
   "cell_type": "markdown",
   "metadata": {},
   "source": [
    "### Practice for the Week\n"
   ]
  },
  {
   "cell_type": "markdown",
   "metadata": {},
   "source": [
    "Now that you have learned about the traditional machine learning algorithms and how it applies to NLP tasks, let's work on the task of sentiment analysis with the dataset we have been using in the prevsious week, Corona_NLP_train."
   ]
  },
  {
   "cell_type": "code",
   "execution_count": 12,
   "metadata": {},
   "outputs": [],
   "source": [
    "# Import more necessary modules\n",
    "from sklearn.metrics import f1_score, confusion_matrix\n",
    "import seaborn as sns\n",
    "\n",
    "# Generates a confusion matrix (a evaluation metric that you will learn in week 5) between hand labelled data and model predictions\n",
    "def getConfMatrix(pred_data, actual):\n",
    "    conf_mat = confusion_matrix(actual, pred_data, labels=[0, 1]) \n",
    "    micro = f1_score(actual, pred_data, average='micro') \n",
    "    macro = f1_score(actual,pred_data, average='macro')\n",
    "    sns.heatmap(conf_mat, annot = True, fmt=\".0f\", annot_kws={\"size\": 18})\n",
    "    print('F1 Micro: '+ str(micro))\n",
    "    print('F1 Macro: '+ str(macro))"
   ]
  },
  {
   "cell_type": "code",
   "execution_count": null,
   "metadata": {},
   "outputs": [],
   "source": [
    "# Load the csv file into a pandas dataframe\n",
    "\n",
    "# data preprocessing\n",
    "\n",
    "# Vectorize the text data\n",
    "\n",
    "# Split the data into training and testing sets\n",
    "\n",
    "# Train a machine learning model on the training set\n",
    "\n",
    "# Evaluate the performance of the model on the testing set using the getConfMatrix function"
   ]
  }
 ],
 "metadata": {
  "kernelspec": {
   "display_name": "py310",
   "language": "python",
   "name": "python3"
  },
  "language_info": {
   "codemirror_mode": {
    "name": "ipython",
    "version": 3
   },
   "file_extension": ".py",
   "mimetype": "text/x-python",
   "name": "python",
   "nbconvert_exporter": "python",
   "pygments_lexer": "ipython3",
   "version": "3.10.11"
  }
 },
 "nbformat": 4,
 "nbformat_minor": 2
}
