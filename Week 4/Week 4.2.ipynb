{
 "cells": [
  {
   "cell_type": "markdown",
   "metadata": {},
   "source": [
    "### 1. Evaluation Metrics\n",
    "We will learn about evaluation metrics for predictive and generative models and how to use them to evaluate our models. It is the post-processing of the model's output to measure its performance in the context of a specific task.\n",
    "\n",
    "We will use the publicly available IMDB datasets to demonstrate the evaluation metrics on sentiment analysis task."
   ]
  },
  {
   "cell_type": "markdown",
   "metadata": {},
   "source": [
    "### 0.1 Preprocessing the data"
   ]
  },
  {
   "cell_type": "code",
   "execution_count": 1,
   "metadata": {},
   "outputs": [],
   "source": [
    "from sklearn.feature_extraction.text import TfidfVectorizer\n",
    "import pandas as pd\n",
    "import re\n",
    "import nltk\n",
    "from nltk.corpus import stopwords \n",
    "import numpy as np"
   ]
  },
  {
   "cell_type": "code",
   "execution_count": 2,
   "metadata": {},
   "outputs": [
    {
     "data": {
      "text/plain": [
       "(400, 2)"
      ]
     },
     "execution_count": 2,
     "metadata": {},
     "output_type": "execute_result"
    }
   ],
   "source": [
    "n_samples = 200 # play around with this number to see how it affects the results\n",
    "imdb_df = pd.read_csv(r\"IMDB Dataset.csv\")\n",
    "df_positive = imdb_df[imdb_df['sentiment']=='positive'][:n_samples]\n",
    "df_negative = imdb_df[imdb_df['sentiment']=='negative'][:n_samples]\n",
    "imdb = pd.concat([df_positive,df_negative ])\n",
    "imdb.shape"
   ]
  },
  {
   "cell_type": "code",
   "execution_count": 3,
   "metadata": {},
   "outputs": [],
   "source": [
    "# remove \"(<.*?>)\" markup\n",
    "imdb['review'] = imdb['review'].apply(lambda x: re.sub('(<.*?>)', ' ', x))\n",
    "# remove punctuation marks \n",
    "imdb['review'] = imdb['review'].apply(lambda x: re.sub('[,\\.!?:()\"]', '', x))\n",
    "# remove whitespace\n",
    "imdb['review'] = imdb['review'].apply(lambda x: x.strip())\n",
    "# remove all strings that contain a non-letter\n",
    "imdb['review'] = imdb['review'].apply(lambda x: re.sub('[^a-zA-Z\"]',' ',x))\n",
    "# convert to lower\n",
    "imdb['review'] = imdb['review'].apply(lambda x: x.lower())"
   ]
  },
  {
   "cell_type": "code",
   "execution_count": 4,
   "metadata": {},
   "outputs": [
    {
     "name": "stderr",
     "output_type": "stream",
     "text": [
      "[nltk_data] Downloading package wordnet to\n",
      "[nltk_data]     C:\\Users\\LW\\AppData\\Roaming\\nltk_data...\n",
      "[nltk_data]   Package wordnet is already up-to-date!\n",
      "[nltk_data] Downloading package averaged_perceptron_tagger to\n",
      "[nltk_data]     C:\\Users\\LW\\AppData\\Roaming\\nltk_data...\n",
      "[nltk_data]   Package averaged_perceptron_tagger is already up-to-\n",
      "[nltk_data]       date!\n"
     ]
    }
   ],
   "source": [
    "nltk.download('wordnet')\n",
    "from nltk.stem import WordNetLemmatizer\n",
    "from nltk.tokenize import word_tokenize\n",
    "nltk.download('averaged_perceptron_tagger')\n",
    "lemmatizer= WordNetLemmatizer()\n",
    "from nltk.corpus import wordnet\n",
    "\n",
    "def pos_tagger(nltk_tag):\n",
    "    if nltk_tag.startswith('J'):\n",
    "        return wordnet.ADJ\n",
    "    elif nltk_tag.startswith('V'):\n",
    "        return wordnet.VERB\n",
    "    elif nltk_tag.startswith('N'):\n",
    "        return wordnet.NOUN\n",
    "    elif nltk_tag.startswith('R'):\n",
    "        return wordnet.ADV\n",
    "    else:         \n",
    "        return None\n",
    "    \n",
    "def tagged_lemma(string):\n",
    "    \n",
    "    pos_tagged = nltk.pos_tag(nltk.word_tokenize(string))\n",
    "\n",
    "    wordnet_tagged = list(map(lambda x: (x[0], pos_tagger(x[1])), pos_tagged))\n",
    "\n",
    "    lemmatized_sentence = []\n",
    "\n",
    "    for word, tag in wordnet_tagged:\n",
    "        if tag is None:\n",
    "            lemmatized_sentence.append(word)\n",
    "        else:       \n",
    "            lemmatized_sentence.append(lemmatizer.lemmatize(word, tag))\n",
    "    lemmatized_sentence = \" \".join(lemmatized_sentence)\n",
    "    return lemmatized_sentence"
   ]
  },
  {
   "cell_type": "code",
   "execution_count": 5,
   "metadata": {},
   "outputs": [
    {
     "name": "stdout",
     "output_type": "stream",
     "text": [
      "basically there s a family where a little boy jake thinks there s a zombie in his closet   his parents are fighting all the time  this movie is slower than a soap opera and suddenly jake decides to become rambo and kill the zombie  ok first of all when you re going to make a film you must decide if its a thriller or a drama as a drama the movie is watchable parents are divorcing   arguing like in real life and then we have jake with his closet which totally ruins all the film i expected to see a boogeyman similar movie and instead i watched a drama with some meaningless thriller spots    out of    just for the well playing parents   descent dialogs as for the shots with jake just ignore them\n",
      "basically family little boy jake think zombie closet parent fight time movie slow soap opera suddenly jake decides become rambo kill zombie ok first go make film must decide thriller drama drama movie watchable parent divorce argue like real life jake closet totally ruin film expect see boogeyman similar movie instead watch drama meaningless thriller spot well play parent descent dialog shot jake ignore\n"
     ]
    }
   ],
   "source": [
    "print(imdb['review'][3])\n",
    "words = imdb['review'].apply(lambda x: x.split())\n",
    "stop_words = set(stopwords.words('english'))\n",
    "filtered_words = words.apply(lambda x: [w for w in x if not w in stop_words])\n",
    "imdb['review'] = filtered_words.apply(lambda x: \" \".join(x))\n",
    "imdb['review']=imdb['review'].apply(tagged_lemma)\n",
    "print(imdb['review'][3])"
   ]
  },
  {
   "cell_type": "markdown",
   "metadata": {},
   "source": [
    "### 0.2 Vectorization and Data Splitting"
   ]
  },
  {
   "cell_type": "code",
   "execution_count": 6,
   "metadata": {},
   "outputs": [
    {
     "name": "stdout",
     "output_type": "stream",
     "text": [
      "Tfidf_train: (300, 7640)\n",
      "Tfidf_test: (100, 7640)\n"
     ]
    }
   ],
   "source": [
    "imdb.sentiment = imdb.sentiment.apply(lambda x: 1 if x=='positive' else 0)\n",
    "\n",
    "from sklearn.model_selection import train_test_split\n",
    "train_review, test_review, train_sent, test_sent = train_test_split(imdb['review'], imdb['sentiment'], test_size=0.25, random_state=42)\n",
    "\n",
    "tv = TfidfVectorizer(stop_words='english')\n",
    "train_review_tfidf = np.asarray(tv.fit_transform(train_review).todense())\n",
    "test_review_tfidf = np.asarray(tv.transform(test_review).todense())\n",
    "print('Tfidf_train:', train_review_tfidf.shape)\n",
    "print('Tfidf_test:', test_review_tfidf.shape)"
   ]
  },
  {
   "cell_type": "markdown",
   "metadata": {},
   "source": [
    "### 0.3 Sentiment Analysis\n",
    "Examples shown using SVM Model and Linear Regression Model."
   ]
  },
  {
   "cell_type": "code",
   "execution_count": 7,
   "metadata": {},
   "outputs": [],
   "source": [
    "from sklearn import svm\n",
    "clf = svm.SVC(kernel='rbf')\n",
    "\n",
    "# Train using the training sets\n",
    "clf.fit(train_review_tfidf, train_sent)\n",
    "\n",
    "# Predict the response for test dataset\n",
    "svm_pred = clf.predict(test_review_tfidf)"
   ]
  },
  {
   "cell_type": "code",
   "execution_count": 8,
   "metadata": {},
   "outputs": [],
   "source": [
    "from sklearn.linear_model import LinearRegression\n",
    "\n",
    "lr = LinearRegression()\n",
    "lr.fit(train_review_tfidf, train_sent)\n",
    "lr_pred = lr.predict(test_review_tfidf)"
   ]
  },
  {
   "cell_type": "markdown",
   "metadata": {},
   "source": [
    "### 1.1 Predictive:\n",
    "- Confusion Matrix\n",
    "- F1-score\n",
    "- Area under ROC curve (AUC-ROC)"
   ]
  },
  {
   "cell_type": "code",
   "execution_count": 9,
   "metadata": {},
   "outputs": [
    {
     "name": "stdout",
     "output_type": "stream",
     "text": [
      "SVM:\n",
      "Accuracy: 0.8\n",
      "Precision: 0.8\n",
      "Recall: 0.8\n"
     ]
    },
    {
     "data": {
      "image/png": "[encoded data removed]",
      "text/plain": [
       "<Figure size 640x480 with 2 Axes>"
      ]
     },
     "metadata": {},
     "output_type": "display_data"
    }
   ],
   "source": [
    "from sklearn.metrics import accuracy_score, precision_score, recall_score, confusion_matrix\n",
    "import seaborn as sns\n",
    "\n",
    "# generates a confusion matrix between hand labelled data and model predictions\n",
    "def getConfMatrix(pred_data, actual):\n",
    "    conf_mat = confusion_matrix(actual, pred_data, labels=[0,1])\n",
    "    accuracy = accuracy_score(actual, pred_data)\n",
    "    precision = precision_score(actual, pred_data, average='micro')\n",
    "    recall = recall_score(actual, pred_data, average='micro')\n",
    "    sns.heatmap(conf_mat, annot = True, fmt=\".0f\", annot_kws={\"size\": 18})\n",
    "    print('Accuracy: ' + str(accuracy))\n",
    "    print('Precision: ' + str(precision))\n",
    "    print('Recall: ' + str(recall))\n",
    "print(\"SVM:\")\n",
    "getConfMatrix(svm_pred, test_sent)"
   ]
  },
  {
   "cell_type": "code",
   "execution_count": 10,
   "metadata": {},
   "outputs": [
    {
     "name": "stdout",
     "output_type": "stream",
     "text": [
      "Linear Regression:\n",
      "Accuracy: 0.82\n",
      "Precision: 0.82\n",
      "Recall: 0.82\n"
     ]
    },
    {
     "data": {
      "image/png": "[encoded data removed]",
      "text/plain": [
       "<Figure size 640x480 with 2 Axes>"
      ]
     },
     "metadata": {},
     "output_type": "display_data"
    }
   ],
   "source": [
    "# output of the linear regression model is probabilistic, so we need to convert it to binary using a threshold. Here, we chose 0.5 as the threshold.\n",
    "print('Linear Regression:')\n",
    "getConfMatrix((lr_pred > 0.5).astype(int), test_sent)"
   ]
  },
  {
   "cell_type": "code",
   "execution_count": 11,
   "metadata": {},
   "outputs": [
    {
     "name": "stdout",
     "output_type": "stream",
     "text": [
      "SVM:\n",
      "F1 Micro: 0.8\n",
      "F1 Macro: 0.7987117552334944\n",
      "Linear Regression:\n",
      "F1 Micro: 0.82\n",
      "F1 Macro: 0.8181818181818181\n"
     ]
    }
   ],
   "source": [
    "from sklearn.metrics import f1_score\n",
    "def get_f1_score(y_true, y_pred):\n",
    "    micro = f1_score(y_true, y_pred, average='micro') \n",
    "    macro = f1_score(y_true,y_pred, average='macro')\n",
    "    print('F1 Micro: '+ str(micro))\n",
    "    print('F1 Macro: '+ str(macro))\n",
    "\n",
    "print(\"SVM:\")\n",
    "get_f1_score(test_sent, svm_pred)\n",
    "print(\"Linear Regression:\")\n",
    "get_f1_score(test_sent, (lr_pred > 0.5).astype(int))"
   ]
  },
  {
   "cell_type": "code",
   "execution_count": 12,
   "metadata": {},
   "outputs": [
    {
     "data": {
      "image/png": "[encoded data removed]",
      "text/plain": [
       "<Figure size 640x480 with 1 Axes>"
      ]
     },
     "metadata": {},
     "output_type": "display_data"
    }
   ],
   "source": [
    "# AUCROC only works on probability predictions, not binary predictions.\n",
    "from sklearn import metrics\n",
    "import matplotlib.pyplot as plt\n",
    "\n",
    "fpr, tpr, _ = metrics.roc_curve(test_sent,  lr_pred)\n",
    "auc = metrics.roc_auc_score(test_sent, lr_pred)\n",
    "\n",
    "#create ROC curve\n",
    "plt.plot(fpr,tpr,label=\"AUC=\"+str(auc))\n",
    "plt.ylabel('True Positive Rate')\n",
    "plt.xlabel('False Positive Rate')\n",
    "plt.legend(loc=4)\n",
    "plt.show()"
   ]
  },
  {
   "cell_type": "markdown",
   "metadata": {},
   "source": [
    "### 2. Generative\n",
    "- BLEU\n",
    "- ROUGE\n",
    "- METEOR"
   ]
  },
  {
   "cell_type": "code",
   "execution_count": 13,
   "metadata": {},
   "outputs": [
    {
     "name": "stdout",
     "output_type": "stream",
     "text": [
      "BLEU score with 2-grams: 0.5003287150764929, input weight: [0.5, 0.5]\n",
      "BLEU score with 3-grams: 0.41914819237589174, input weight: [0.3333333333333333, 0.3333333333333333, 0.3333333333333333]\n",
      "BLEU score with 4-grams: 0.3376459109063278, input weight: [0.25, 0.25, 0.25, 0.25]\n",
      "BLEU score with 5-grams: 0.1956590025947443, input weight: [0.2, 0.2, 0.2, 0.2, 0.2]\n"
     ]
    }
   ],
   "source": [
    "import nltk\n",
    "from nltk import word_tokenize\n",
    "from nltk.translate.bleu_score import SmoothingFunction\n",
    "ref = 'A fast brown dog jumps over a sleeping fox'\n",
    "cand = 'A quick brown dog jumps over the fox'\n",
    "smoothie = SmoothingFunction().method1\n",
    "reference = word_tokenize(ref)\n",
    "candidate = word_tokenize(cand)\n",
    "\n",
    "for i in range(2, 6):\n",
    "    weights = [1/i for _ in range(i)]\n",
    "    BLEUscore = nltk.translate.bleu_score.sentence_bleu([reference], candidate, weights, smoothing_function=smoothie)\n",
    "    print(f\"BLEU score with {i}-grams: {BLEUscore}, input weight: {weights}\")"
   ]
  },
  {
   "cell_type": "code",
   "execution_count": 14,
   "metadata": {},
   "outputs": [
    {
     "name": "stdout",
     "output_type": "stream",
     "text": [
      "[0.5003287150764929, 0.41914819237589174, 0.3376459109063278, 0.1956590025947443]\n"
     ]
    }
   ],
   "source": [
    "# multiple weights can be given, resulting in multiple BLEU scores at once\n",
    "weights = []\n",
    "for i in range(2, 6):\n",
    "    weights.append([1/i for _ in range(i)])\n",
    "BLEUscore = nltk.translate.bleu_score.sentence_bleu([reference], candidate, weights, smoothing_function=smoothie)\n",
    "print(BLEUscore)"
   ]
  },
  {
   "cell_type": "code",
   "execution_count": 15,
   "metadata": {},
   "outputs": [
    {
     "name": "stdout",
     "output_type": "stream",
     "text": [
      "{'rouge1': 0.823529411764706, 'rouge2': 0.39999999999999997, 'rougeL': 0.5882352941176471, 'rougeLsum': 0.5882352941176471}\n"
     ]
    }
   ],
   "source": [
    "import evaluate\n",
    "rouge = evaluate.load('rouge')\n",
    "references = ['A fast brown dog jumps over a sleeping fox', \n",
    "              'A quick brown dog jumps over the fox'], \n",
    "predictions = ['The quick brown fox jumps over the lazy dog']\n",
    "results = rouge.compute(predictions=predictions, references=references)\n",
    "print(results)"
   ]
  },
  {
   "cell_type": "code",
   "execution_count": 16,
   "metadata": {},
   "outputs": [
    {
     "name": "stdout",
     "output_type": "stream",
     "text": [
      "cand_bigrams: {('over', 'lazy'), ('the', 'lazy'), ('jumps', 'over'), ('over', 'the'), ('quick', 'fox'), ('fox', 'jumps'), ('The', 'brown'), ('jumps', 'the'), ('the', 'dog'), ('brown', 'jumps'), ('brown', 'fox'), ('fox', 'over'), ('quick', 'brown'), ('The', 'quick'), ('lazy', 'dog')}\n",
      "ref_bigrams: {('dog', 'jumps'), ('A', 'fast'), ('brown', 'dog'), ('jumps', 'over'), ('fast', 'dog'), ('over', 'a'), ('dog', 'over'), ('a', 'sleeping'), ('fast', 'brown'), ('sleeping', 'fox'), ('a', 'fox'), ('jumps', 'a'), ('over', 'sleeping'), ('brown', 'jumps'), ('A', 'brown')}\n",
      "ref_bigrams: {('dog', 'jumps'), ('jumps', 'over'), ('brown', 'dog'), ('A', 'quick'), ('over', 'the'), ('over', 'fox'), ('the', 'fox'), ('dog', 'over'), ('jumps', 'the'), ('quick', 'dog'), ('brown', 'jumps'), ('quick', 'brown'), ('A', 'brown')}\n",
      "f1 score:  0.3571428571428571\n"
     ]
    }
   ],
   "source": [
    "from nltk import skipgrams\n",
    "\n",
    "def rouge_s(reference, candidate):\n",
    "    def skip_bigrams(sentence):\n",
    "        words = sentence.split()\n",
    "        return set(skipgrams(words, 2, 1))\n",
    "    \n",
    "    cand_bigrams = skip_bigrams(candidate)\n",
    "    print('cand_bigrams:', cand_bigrams)\n",
    "    max_f1_score = 0\n",
    "    for ref in reference:\n",
    "        ref_bigrams = skip_bigrams(ref)\n",
    "        print('ref_bigrams:', ref_bigrams)\n",
    "        common_bigrams = ref_bigrams.intersection(cand_bigrams)\n",
    "        precision = len(common_bigrams) / len(cand_bigrams) if cand_bigrams else 0\n",
    "        recall = len(common_bigrams) / len(ref_bigrams) if ref_bigrams else 0  \n",
    "        f1_score = (2 * precision * recall / (precision + recall)) if (precision + recall) else 0\n",
    "\n",
    "        max_f1_score = max(max_f1_score, f1_score)  # interested in the best match scenario\n",
    "    return max_f1_score\n",
    "print('f1 score: ', rouge_s(reference=['A fast brown dog jumps over a sleeping fox', \n",
    "                   'A quick brown dog jumps over the fox'], \n",
    "        candidate='The quick brown fox jumps over the lazy dog'))"
   ]
  },
  {
   "cell_type": "code",
   "execution_count": 17,
   "metadata": {},
   "outputs": [
    {
     "name": "stdout",
     "output_type": "stream",
     "text": [
      "The METEOR score is: 0.5679\n"
     ]
    }
   ],
   "source": [
    "from nltk.translate import meteor\n",
    "from nltk import word_tokenize\n",
    "score=round(meteor([word_tokenize('A fast brown dog jumps over a sleeping fox')],\n",
    "                   word_tokenize('The quick brown fox jumps over the lazy dog')), 4)\n",
    "print('The METEOR score is: '+str(score))"
   ]
  },
  {
   "cell_type": "markdown",
   "metadata": {},
   "source": [
    "### 2. Word Embeddings (Word2Vec and GloVe)\n",
    "Vectorization techniques other than TF-IDF and BOW."
   ]
  },
  {
   "cell_type": "code",
   "execution_count": 18,
   "metadata": {},
   "outputs": [
    {
     "name": "stdout",
     "output_type": "stream",
     "text": [
      "Embedding for 'word': [-9.5782708e-03  8.9433035e-03  4.1655651e-03  9.2360200e-03\n",
      "  6.6434164e-03  2.9238823e-03  9.8045552e-03 -4.4228774e-03\n",
      " -6.8031684e-03  4.2263791e-03  3.7309569e-03 -5.6647998e-03\n",
      "  9.7051831e-03 -3.5571249e-03  9.5494138e-03  8.3399686e-04\n",
      " -6.3375360e-03 -1.9765303e-03 -7.3783435e-03 -2.9803123e-03\n",
      "  1.0425968e-03  9.4828764e-03  9.3571255e-03 -6.5945145e-03\n",
      "  3.4750504e-03  2.2753996e-03 -2.4888995e-03 -9.2287343e-03\n",
      "  1.0264782e-03 -8.1667695e-03  6.3202251e-03 -5.8006351e-03\n",
      "  5.5357707e-03  9.8335072e-03 -1.6020649e-04  4.5292759e-03\n",
      " -1.8079536e-03  7.3599042e-03  3.9389166e-03 -9.0105701e-03\n",
      " -2.3983277e-03  3.6285119e-03 -9.9961828e-05 -1.2015507e-03\n",
      " -1.0550468e-03 -1.6715144e-03  6.0320512e-04  4.1645542e-03\n",
      " -4.2527826e-03 -3.8329726e-03 -5.2653751e-05  2.6851249e-04\n",
      " -1.7041666e-04 -4.7857561e-03  4.3126042e-03 -2.1723476e-03\n",
      "  2.1040821e-03  6.6577346e-04  5.9687104e-03 -6.8427366e-03\n",
      " -6.8160188e-03 -4.4750450e-03  9.4369482e-03 -1.5926627e-03\n",
      " -9.4300918e-03 -5.4425694e-04 -4.4496474e-03  6.0008741e-03\n",
      " -9.5837293e-03  2.8578769e-03 -9.2512975e-03  1.2507273e-03\n",
      "  5.9983991e-03  7.3978822e-03 -7.6199183e-03 -6.0532107e-03\n",
      " -6.8376604e-03 -7.9174070e-03 -9.5002521e-03 -2.1253186e-03\n",
      " -8.3641807e-04 -7.2558355e-03  6.7871362e-03  1.1204430e-03\n",
      "  5.8272551e-03  1.4734893e-03  7.9107360e-04 -7.3686223e-03\n",
      " -2.1775942e-03  4.3218113e-03 -5.0858771e-03  1.1309833e-03\n",
      "  2.8836925e-03 -1.5359134e-03  9.9341124e-03  8.3504440e-03\n",
      "  2.4163835e-03  7.1164975e-03  5.8903527e-03 -5.5806041e-03]\n",
      "Similarity between 'word' and 'embedding': -0.06901167333126068\n"
     ]
    }
   ],
   "source": [
    "from gensim.models import Word2Vec\n",
    "from nltk.tokenize import word_tokenize\n",
    "\n",
    "# Sample sentences for training Word2Vec\n",
    "sentences = [\n",
    "    \"Word2Vec is a technique for word embedding.\",\n",
    "    \"Embedding words in vector space is powerful for NLP.\",\n",
    "    \"Gensim provides an easy way to work with Word2Vec.\",\n",
    "]\n",
    "\n",
    "# Tokenize the sentences into words\n",
    "tokenized_sentences = [word_tokenize(sentence.lower()) for sentence in sentences]\n",
    "\n",
    "# Train a Word2Vec model\n",
    "model = Word2Vec(tokenized_sentences, vector_size=100, window=5, min_count=1, sg=0)  \n",
    "# Adjust parameters as needed\n",
    "\n",
    "# Save the trained model for future use\n",
    "model.save(\"word2vec.model\")\n",
    "\n",
    "# Load the model (if needed)\n",
    "# model = Word2Vec.load(\"word2vec.model\")\n",
    "\n",
    "# Get the word embeddings\n",
    "word = \"word\"\n",
    "if word in model.wv:\n",
    "    embedding = model.wv[word]\n",
    "    print(f\"Embedding for '{word}': {embedding}\")\n",
    "else:\n",
    "    print(f\"'{word}' is not in the vocabulary.\")\n",
    "\n",
    "# Similarity between words\n",
    "similarity = model.wv.similarity(\"word\", \"embedding\")\n",
    "print(f\"Similarity between 'word' and 'embedding': {similarity}\")"
   ]
  },
  {
   "cell_type": "code",
   "execution_count": 19,
   "metadata": {},
   "outputs": [
    {
     "name": "stdout",
     "output_type": "stream",
     "text": [
      "Embedding for 'nero':\n",
      "[ 0.12703   -1.2517    -0.30333   -0.24548    0.068448   1.1062\n",
      "  0.30107   -0.33641    0.067003  -0.71713   -0.045462   0.38737\n",
      " -0.53082    0.19166   -0.13454   -0.69842    0.43061   -0.1036\n",
      "  0.33654    0.74012    0.026213  -0.52291   -0.3713     1.0698\n",
      "  0.61742    0.27974    0.66584   -0.11241    0.0066852  0.1599\n",
      "  0.16144    0.29823   -0.079172   0.1576     0.20478    1.1741\n",
      "  0.24823   -0.60665    0.83795    0.44143   -0.31444    0.0040575\n",
      "  0.19608    0.36953    0.16881   -0.081036  -0.23726   -0.82465\n",
      " -0.025315   0.44143   -0.18847    0.2841     0.034934   0.41033\n",
      " -0.73196   -0.41349   -0.72422    0.31519   -1.13      -0.2272\n",
      "  0.080723   0.50456    0.014441   0.14606   -0.15919   -0.54273\n",
      " -0.43092   -0.37986   -0.35882   -0.037606   0.51308   -0.2918\n",
      "  0.46491    0.41077   -0.20835   -1.2477    -0.77411    0.053342\n",
      " -0.57954    0.58317    0.56071   -0.16284   -0.3974     0.77043\n",
      " -0.58452    0.7157    -0.89662   -0.60718   -0.26547    0.11487\n",
      "  0.48213   -0.66232    0.23707   -0.38942    0.14209   -0.90944\n",
      " -0.061628  -0.58932   -0.76396    0.10286  ]\n",
      "\n",
      "Words most similar to 'nero':\n",
      "claudius 0.7039013504981995\n",
      "caligula 0.6931164860725403\n",
      "tiberius 0.624136209487915\n",
      "caesar 0.6094770431518555\n",
      "domitian 0.5942543745040894\n",
      "vespasian 0.5886495113372803\n",
      "germanicus 0.5798532962799072\n",
      "drusus 0.5789514780044556\n",
      "cleopatra 0.5602390766143799\n",
      "galba 0.5509929060935974\n"
     ]
    }
   ],
   "source": [
    "import gensim.downloader as api\n",
    "\n",
    "# Load the pre-trained GloVe model (you may need to download it first)\n",
    "glove_model = api.load(\"glove-wiki-gigaword-100\")\n",
    "\n",
    "# Find the embedding for a specific word\n",
    "word = \"nero\"\n",
    "try:\n",
    "    embedding = glove_model[word]\n",
    "    print(f\"Embedding for '{word}':\")\n",
    "    print(embedding)\n",
    "except KeyError:\n",
    "    print(f\"'{word}' is not in the vocabulary.\")\n",
    "\n",
    "# Find the most similar words to a given word\n",
    "similar_words = glove_model.most_similar(word)\n",
    "print(f\"\\nWords most similar to '{word}':\")\n",
    "for similar_word, score in similar_words:\n",
    "    print(similar_word, score)"
   ]
  },
  {
   "cell_type": "markdown",
   "metadata": {},
   "source": [
    "### Practice for the Week\n",
    "Now that you have learned about the evaluation metrics and more of word embeddings and their applications, it's time to encapsulate the provided code into functions/modules so that you don't have to write them again and again. It is especialy important to write modular code when working with large datasets and complex models. "
   ]
  },
  {
   "cell_type": "code",
   "execution_count": 20,
   "metadata": {},
   "outputs": [],
   "source": [
    "# This is an example of how to encapsulate the regular expression used to clean the reviews in a function. You may want to save your encapulated function in a separate file for reusability for your project or future use.\n",
    "\n",
    "def clean_reviews(df, review_column):\n",
    "    \"\"\"\n",
    "    Clean the reviews in the specified column of the DataFrame.\n",
    "\n",
    "    Parameters:\n",
    "    df (pd.DataFrame): The DataFrame containing the reviews.\n",
    "    review_column (str): The name of the column containing the reviews to be cleaned.\n",
    "\n",
    "    Returns:\n",
    "    pd.DataFrame: The DataFrame with cleaned reviews.\n",
    "    \"\"\"\n",
    "    # Remove \"(<.*?>)\" markup\n",
    "    df[review_column] = df[review_column].apply(lambda x: re.sub(r'(<.*?>)', ' ', x))\n",
    "    df[review_column] = df[review_column].apply(lambda x: re.sub(r'[,\\.\\!?:()\"]', '', x))\n",
    "    # Remove whitespace\n",
    "    df[review_column] = df[review_column].apply(lambda x: x.strip())\n",
    "    # Remove all strings that contain a non-letter\n",
    "    df[review_column] = df[review_column].apply(lambda x: re.sub(r'[^a-zA-Z\"]', ' ', x))\n",
    "    # Convert to lower case\n",
    "    df[review_column] = df[review_column].apply(lambda x: x.lower())\n",
    "    return df"
   ]
  },
  {
   "cell_type": "code",
   "execution_count": 21,
   "metadata": {},
   "outputs": [],
   "source": [
    "# suggestions to encaplusate the code into the following parts:\n",
    "# 1. Dataloader (A dynamic way to load different dataset)\n",
    "# 2. Raw data preprocessing (cleaning, tokenization, vectorization)\n",
    "# 3. Model Selection (switch among different model for the task with a change of the input keyword in the function call)\n",
    "# 4. Metrics (calculate the performance metrics such as accuracy, precision, recall, F1-score, activate the option to plot the result when necessary)"
   ]
  }
 ],
 "metadata": {
  "kernelspec": {
   "display_name": "py310",
   "language": "python",
   "name": "python3"
  },
  "language_info": {
   "codemirror_mode": {
    "name": "ipython",
    "version": 3
   },
   "file_extension": ".py",
   "mimetype": "text/x-python",
   "name": "python",
   "nbconvert_exporter": "python",
   "pygments_lexer": "ipython3",
   "version": "3.10.11"
  }
 },
 "nbformat": 4,
 "nbformat_minor": 2
}
