{
  "cells": [
    {
      "cell_type": "code",
      "execution_count": null,
      "metadata": {
        "id": "y_OfdyMUtbYs"
      },
      "outputs": [],
      "source": []
    },
    {
      "cell_type": "markdown",
      "metadata": {
        "id": "c0e1102d"
      },
      "source": [
        "# Task\n",
        "Perform dimensionality reduction using PCA and SVD on a dummy Bag-of-Words dataset, visualize the results with scatter plots, analyze the efficiency of each method, discuss the impact on clustering, and explain their roles in NLP."
      ]
    },
    {
      "cell_type": "markdown",
      "metadata": {
        "id": "4563ae6d"
      },
      "source": [
        "## Generate dummy data\n",
        "\n",
        "### Subtask:\n",
        "Create a dummy Bag-of-Words (BOW) dataset for demonstration.\n"
      ]
    },
    {
      "cell_type": "markdown",
      "metadata": {
        "id": "f7ed9eba"
      },
      "source": [
        "**Reasoning**:\n",
        "The first step is to create a dummy Bag-of-Words dataset by importing necessary libraries, defining sample documents, and using `CountVectorizer` to create the BOW matrix and feature names.\n",
        "\n"
      ]
    },
    {
      "cell_type": "code",
      "execution_count": 2,
      "metadata": {
        "id": "Gq-kXlN4vTP_"
      },
      "outputs": [],
      "source": [
        "\n",
        "import pandas as pd\n",
        "import io\n",
        "\n",
        "df = pd.read_csv('Corona_NLP_train.csv', encoding='latin-1')"
      ]
    },
    {
      "cell_type": "code",
      "execution_count": 3,
      "metadata": {
        "colab": {
          "base_uri": "https://localhost:8080/"
        },
        "id": "baf70229",
        "outputId": "83d4b021-535a-46d6-cbbe-bca1b8aff7ea"
      },
      "outputs": [
        {
          "name": "stderr",
          "output_type": "stream",
          "text": [
            "[nltk_data] Downloading package stopwords to\n",
            "[nltk_data]     /Users/hehvince/nltk_data...\n",
            "[nltk_data]   Package stopwords is already up-to-date!\n"
          ]
        }
      ],
      "source": [
        "from nltk.corpus import stopwords\n",
        "import nltk\n",
        "nltk.download('stopwords')\n",
        "from nltk.corpus import stopwords\n",
        "stop_words = stopwords.words('english')\n",
        "stop_words.extend(['https','tco'])"
      ]
    },
    {
      "cell_type": "code",
      "execution_count": 4,
      "metadata": {
        "id": "Meoy-W26wmEI"
      },
      "outputs": [],
      "source": [
        "from sklearn.feature_extraction.text import TfidfVectorizer\n",
        "import pandas as pd\n",
        "\n",
        "vect= TfidfVectorizer(stop_words=stop_words)\n",
        "x = vect.fit_transform(df.OriginalTweet)\n",
        "tf_idf_vect = pd.DataFrame(x.toarray().transpose(),index=vect.get_feature_names_out())"
      ]
    },
    {
      "cell_type": "markdown",
      "metadata": {
        "id": "3f4a03db"
      },
      "source": [
        "## Apply pca\n",
        "\n",
        "### Subtask:\n",
        "Apply Principal Component Analysis (PCA) to reduce the dimensions of the dummy data.\n"
      ]
    },
    {
      "cell_type": "markdown",
      "metadata": {
        "id": "a3075a20"
      },
      "source": [
        "**Reasoning**:\n",
        "Apply PCA to reduce the dimensions of the dummy data as instructed.\n",
        "\n"
      ]
    },
    {
      "cell_type": "code",
      "execution_count": 5,
      "metadata": {
        "id": "5287c2fd"
      },
      "outputs": [],
      "source": [
        "from sklearn.decomposition import PCA\n",
        "pca = PCA(n_components=10)\n",
        "pca_result = pca.fit_transform(tf_idf_vect)"
      ]
    },
    {
      "cell_type": "markdown",
      "metadata": {
        "id": "05419a3a"
      },
      "source": [
        "## Apply svd\n",
        "\n",
        "### Subtask:\n",
        "Apply Singular Value Decomposition (SVD) to reduce the dimensions of the dummy data.\n"
      ]
    },
    {
      "cell_type": "markdown",
      "metadata": {
        "id": "04ac3481"
      },
      "source": [
        "**Reasoning**:\n",
        "Apply TruncatedSVD to the dense Bag-of-Words matrix and print the shape of the result.\n",
        "\n"
      ]
    },
    {
      "cell_type": "code",
      "execution_count": 6,
      "metadata": {
        "colab": {
          "base_uri": "https://localhost:8080/",
          "height": 219
        },
        "id": "d07b74c1",
        "outputId": "6a667494-a96e-46dd-e665-61ee5b84d8f6"
      },
      "outputs": [
        {
          "ename": "KeyboardInterrupt",
          "evalue": "",
          "output_type": "error",
          "traceback": [
            "\u001b[31m---------------------------------------------------------------------------\u001b[39m",
            "\u001b[31mKeyboardInterrupt\u001b[39m                         Traceback (most recent call last)",
            "\u001b[36mCell\u001b[39m\u001b[36m \u001b[39m\u001b[32mIn[6]\u001b[39m\u001b[32m, line 9\u001b[39m\n\u001b[32m      7\u001b[39m \u001b[38;5;28;01mfrom\u001b[39;00m\u001b[38;5;250m \u001b[39m\u001b[34;01msklearn\u001b[39;00m\u001b[34;01m.\u001b[39;00m\u001b[34;01mdecomposition\u001b[39;00m\u001b[38;5;250m \u001b[39m\u001b[38;5;28;01mimport\u001b[39;00m TruncatedSVD\n\u001b[32m      8\u001b[39m svd_result = svd_modeling = TruncatedSVD(n_components=\u001b[32m4\u001b[39m, algorithm=\u001b[33m'\u001b[39m\u001b[33mrandomized\u001b[39m\u001b[33m'\u001b[39m, n_iter=\u001b[32m100\u001b[39m, random_state=\u001b[32m122\u001b[39m)\n\u001b[32m----> \u001b[39m\u001b[32m9\u001b[39m svd_modeling.fit(x)\n\u001b[32m     10\u001b[39m components=svd_modeling.components_\n\u001b[32m     11\u001b[39m vocab = vect.get_feature_names_out()\n",
            "\u001b[36mFile \u001b[39m\u001b[32m~/Desktop/LTU/Cycle 4/D7047E Advanced Deep Learning/.conda/lib/python3.12/site-packages/sklearn/decomposition/_truncated_svd.py:206\u001b[39m, in \u001b[36mTruncatedSVD.fit\u001b[39m\u001b[34m(self, X, y)\u001b[39m\n\u001b[32m    190\u001b[39m \u001b[38;5;28;01mdef\u001b[39;00m\u001b[38;5;250m \u001b[39m\u001b[34mfit\u001b[39m(\u001b[38;5;28mself\u001b[39m, X, y=\u001b[38;5;28;01mNone\u001b[39;00m):\n\u001b[32m    191\u001b[39m \u001b[38;5;250m    \u001b[39m\u001b[33;03m\"\"\"Fit model on training data X.\u001b[39;00m\n\u001b[32m    192\u001b[39m \n\u001b[32m    193\u001b[39m \u001b[33;03m    Parameters\u001b[39;00m\n\u001b[32m   (...)\u001b[39m\u001b[32m    204\u001b[39m \u001b[33;03m        Returns the transformer object.\u001b[39;00m\n\u001b[32m    205\u001b[39m \u001b[33;03m    \"\"\"\u001b[39;00m\n\u001b[32m--> \u001b[39m\u001b[32m206\u001b[39m     \u001b[38;5;28mself\u001b[39m.fit_transform(X)\n\u001b[32m    207\u001b[39m     \u001b[38;5;28;01mreturn\u001b[39;00m \u001b[38;5;28mself\u001b[39m\n",
            "\u001b[36mFile \u001b[39m\u001b[32m~/Desktop/LTU/Cycle 4/D7047E Advanced Deep Learning/.conda/lib/python3.12/site-packages/sklearn/utils/_set_output.py:319\u001b[39m, in \u001b[36m_wrap_method_output.<locals>.wrapped\u001b[39m\u001b[34m(self, X, *args, **kwargs)\u001b[39m\n\u001b[32m    317\u001b[39m \u001b[38;5;129m@wraps\u001b[39m(f)\n\u001b[32m    318\u001b[39m \u001b[38;5;28;01mdef\u001b[39;00m\u001b[38;5;250m \u001b[39m\u001b[34mwrapped\u001b[39m(\u001b[38;5;28mself\u001b[39m, X, *args, **kwargs):\n\u001b[32m--> \u001b[39m\u001b[32m319\u001b[39m     data_to_wrap = f(\u001b[38;5;28mself\u001b[39m, X, *args, **kwargs)\n\u001b[32m    320\u001b[39m     \u001b[38;5;28;01mif\u001b[39;00m \u001b[38;5;28misinstance\u001b[39m(data_to_wrap, \u001b[38;5;28mtuple\u001b[39m):\n\u001b[32m    321\u001b[39m         \u001b[38;5;66;03m# only wrap the first output for cross decomposition\u001b[39;00m\n\u001b[32m    322\u001b[39m         return_tuple = (\n\u001b[32m    323\u001b[39m             _wrap_data_with_container(method, data_to_wrap[\u001b[32m0\u001b[39m], X, \u001b[38;5;28mself\u001b[39m),\n\u001b[32m    324\u001b[39m             *data_to_wrap[\u001b[32m1\u001b[39m:],\n\u001b[32m    325\u001b[39m         )\n",
            "\u001b[36mFile \u001b[39m\u001b[32m~/Desktop/LTU/Cycle 4/D7047E Advanced Deep Learning/.conda/lib/python3.12/site-packages/sklearn/base.py:1389\u001b[39m, in \u001b[36m_fit_context.<locals>.decorator.<locals>.wrapper\u001b[39m\u001b[34m(estimator, *args, **kwargs)\u001b[39m\n\u001b[32m   1382\u001b[39m     estimator._validate_params()\n\u001b[32m   1384\u001b[39m \u001b[38;5;28;01mwith\u001b[39;00m config_context(\n\u001b[32m   1385\u001b[39m     skip_parameter_validation=(\n\u001b[32m   1386\u001b[39m         prefer_skip_nested_validation \u001b[38;5;129;01mor\u001b[39;00m global_skip_validation\n\u001b[32m   1387\u001b[39m     )\n\u001b[32m   1388\u001b[39m ):\n\u001b[32m-> \u001b[39m\u001b[32m1389\u001b[39m     \u001b[38;5;28;01mreturn\u001b[39;00m fit_method(estimator, *args, **kwargs)\n",
            "\u001b[36mFile \u001b[39m\u001b[32m~/Desktop/LTU/Cycle 4/D7047E Advanced Deep Learning/.conda/lib/python3.12/site-packages/sklearn/decomposition/_truncated_svd.py:244\u001b[39m, in \u001b[36mTruncatedSVD.fit_transform\u001b[39m\u001b[34m(self, X, y)\u001b[39m\n\u001b[32m    239\u001b[39m     \u001b[38;5;28;01mif\u001b[39;00m \u001b[38;5;28mself\u001b[39m.n_components > X.shape[\u001b[32m1\u001b[39m]:\n\u001b[32m    240\u001b[39m         \u001b[38;5;28;01mraise\u001b[39;00m \u001b[38;5;167;01mValueError\u001b[39;00m(\n\u001b[32m    241\u001b[39m             \u001b[33mf\u001b[39m\u001b[33m\"\u001b[39m\u001b[33mn_components(\u001b[39m\u001b[38;5;132;01m{\u001b[39;00m\u001b[38;5;28mself\u001b[39m.n_components\u001b[38;5;132;01m}\u001b[39;00m\u001b[33m) must be <=\u001b[39m\u001b[33m\"\u001b[39m\n\u001b[32m    242\u001b[39m             \u001b[33mf\u001b[39m\u001b[33m\"\u001b[39m\u001b[33m n_features(\u001b[39m\u001b[38;5;132;01m{\u001b[39;00mX.shape[\u001b[32m1\u001b[39m]\u001b[38;5;132;01m}\u001b[39;00m\u001b[33m).\u001b[39m\u001b[33m\"\u001b[39m\n\u001b[32m    243\u001b[39m         )\n\u001b[32m--> \u001b[39m\u001b[32m244\u001b[39m     U, Sigma, VT = randomized_svd(\n\u001b[32m    245\u001b[39m         X,\n\u001b[32m    246\u001b[39m         \u001b[38;5;28mself\u001b[39m.n_components,\n\u001b[32m    247\u001b[39m         n_iter=\u001b[38;5;28mself\u001b[39m.n_iter,\n\u001b[32m    248\u001b[39m         n_oversamples=\u001b[38;5;28mself\u001b[39m.n_oversamples,\n\u001b[32m    249\u001b[39m         power_iteration_normalizer=\u001b[38;5;28mself\u001b[39m.power_iteration_normalizer,\n\u001b[32m    250\u001b[39m         random_state=random_state,\n\u001b[32m    251\u001b[39m         flip_sign=\u001b[38;5;28;01mFalse\u001b[39;00m,\n\u001b[32m    252\u001b[39m     )\n\u001b[32m    253\u001b[39m     U, VT = svd_flip(U, VT, u_based_decision=\u001b[38;5;28;01mFalse\u001b[39;00m)\n\u001b[32m    255\u001b[39m \u001b[38;5;28mself\u001b[39m.components_ = VT\n",
            "\u001b[36mFile \u001b[39m\u001b[32m~/Desktop/LTU/Cycle 4/D7047E Advanced Deep Learning/.conda/lib/python3.12/site-packages/sklearn/utils/_param_validation.py:189\u001b[39m, in \u001b[36mvalidate_params.<locals>.decorator.<locals>.wrapper\u001b[39m\u001b[34m(*args, **kwargs)\u001b[39m\n\u001b[32m    187\u001b[39m global_skip_validation = get_config()[\u001b[33m\"\u001b[39m\u001b[33mskip_parameter_validation\u001b[39m\u001b[33m\"\u001b[39m]\n\u001b[32m    188\u001b[39m \u001b[38;5;28;01mif\u001b[39;00m global_skip_validation:\n\u001b[32m--> \u001b[39m\u001b[32m189\u001b[39m     \u001b[38;5;28;01mreturn\u001b[39;00m func(*args, **kwargs)\n\u001b[32m    191\u001b[39m func_sig = signature(func)\n\u001b[32m    193\u001b[39m \u001b[38;5;66;03m# Map *args/**kwargs to the function signature\u001b[39;00m\n",
            "\u001b[36mFile \u001b[39m\u001b[32m~/Desktop/LTU/Cycle 4/D7047E Advanced Deep Learning/.conda/lib/python3.12/site-packages/sklearn/utils/extmath.py:524\u001b[39m, in \u001b[36mrandomized_svd\u001b[39m\u001b[34m(M, n_components, n_oversamples, n_iter, power_iteration_normalizer, transpose, flip_sign, random_state, svd_lapack_driver)\u001b[39m\n\u001b[32m    520\u001b[39m \u001b[38;5;28;01mif\u001b[39;00m transpose:\n\u001b[32m    521\u001b[39m     \u001b[38;5;66;03m# this implementation is a bit faster with smaller shape[1]\u001b[39;00m\n\u001b[32m    522\u001b[39m     M = M.T\n\u001b[32m--> \u001b[39m\u001b[32m524\u001b[39m Q = randomized_range_finder(\n\u001b[32m    525\u001b[39m     M,\n\u001b[32m    526\u001b[39m     size=n_random,\n\u001b[32m    527\u001b[39m     n_iter=n_iter,\n\u001b[32m    528\u001b[39m     power_iteration_normalizer=power_iteration_normalizer,\n\u001b[32m    529\u001b[39m     random_state=random_state,\n\u001b[32m    530\u001b[39m )\n\u001b[32m    532\u001b[39m \u001b[38;5;66;03m# project M to the (k + p) dimensional space using the basis vectors\u001b[39;00m\n\u001b[32m    533\u001b[39m B = Q.T @ M\n",
            "\u001b[36mFile \u001b[39m\u001b[32m~/Desktop/LTU/Cycle 4/D7047E Advanced Deep Learning/.conda/lib/python3.12/site-packages/sklearn/utils/extmath.py:336\u001b[39m, in \u001b[36mrandomized_range_finder\u001b[39m\u001b[34m(A, size, n_iter, power_iteration_normalizer, random_state)\u001b[39m\n\u001b[32m    334\u001b[39m \u001b[38;5;28;01mfor\u001b[39;00m _ \u001b[38;5;129;01min\u001b[39;00m \u001b[38;5;28mrange\u001b[39m(n_iter):\n\u001b[32m    335\u001b[39m     Q, _ = normalizer(A @ Q)\n\u001b[32m--> \u001b[39m\u001b[32m336\u001b[39m     Q, _ = normalizer(A.T @ Q)\n\u001b[32m    338\u001b[39m \u001b[38;5;66;03m# Sample the range of A using by linear projection of Q\u001b[39;00m\n\u001b[32m    339\u001b[39m \u001b[38;5;66;03m# Extract an orthonormal basis\u001b[39;00m\n\u001b[32m    340\u001b[39m Q, _ = qr_normalizer(A @ Q)\n",
            "\u001b[36mFile \u001b[39m\u001b[32m~/Desktop/LTU/Cycle 4/D7047E Advanced Deep Learning/.conda/lib/python3.12/site-packages/scipy/linalg/_decomp_lu.py:201\u001b[39m, in \u001b[36mlu\u001b[39m\u001b[34m(a, permute_l, overwrite_a, check_finite, p_indices)\u001b[39m\n\u001b[32m    196\u001b[39m         \u001b[38;5;28;01mreturn\u001b[39;00m x\n\u001b[32m    197\u001b[39m     \u001b[38;5;28;01mraise\u001b[39;00m \u001b[38;5;167;01mValueError\u001b[39;00m(\u001b[33m'\u001b[39m\u001b[33millegal value in \u001b[39m\u001b[38;5;132;01m%d\u001b[39;00m\u001b[33mth argument of internal gesv|posv\u001b[39m\u001b[33m'\u001b[39m\n\u001b[32m    198\u001b[39m                      % -info)\n\u001b[32m--> \u001b[39m\u001b[32m201\u001b[39m \u001b[38;5;28;01mdef\u001b[39;00m\u001b[38;5;250m \u001b[39m\u001b[34mlu\u001b[39m(a, permute_l=\u001b[38;5;28;01mFalse\u001b[39;00m, overwrite_a=\u001b[38;5;28;01mFalse\u001b[39;00m, check_finite=\u001b[38;5;28;01mTrue\u001b[39;00m,\n\u001b[32m    202\u001b[39m        p_indices=\u001b[38;5;28;01mFalse\u001b[39;00m):\n\u001b[32m    203\u001b[39m \u001b[38;5;250m    \u001b[39m\u001b[33;03m\"\"\"\u001b[39;00m\n\u001b[32m    204\u001b[39m \u001b[33;03m    Compute LU decomposition of a matrix with partial pivoting.\u001b[39;00m\n\u001b[32m    205\u001b[39m \n\u001b[32m   (...)\u001b[39m\u001b[32m    295\u001b[39m \n\u001b[32m    296\u001b[39m \u001b[33;03m    \"\"\"\u001b[39;00m\n\u001b[32m    297\u001b[39m     a1 = np.asarray_chkfinite(a) \u001b[38;5;28;01mif\u001b[39;00m check_finite \u001b[38;5;28;01melse\u001b[39;00m np.asarray(a)\n",
            "\u001b[31mKeyboardInterrupt\u001b[39m: "
          ]
        }
      ],
      "source": [
        "import numpy as np\n",
        "\n",
        "vect= TfidfVectorizer(stop_words=stop_words, smooth_idf=True)\n",
        "x = vect.fit_transform(df.OriginalTweet).todense()\n",
        "x = np.asarray(x)\n",
        "\n",
        "from sklearn.decomposition import TruncatedSVD\n",
        "svd_result = svd_modeling = TruncatedSVD(n_components=4, algorithm='randomized', n_iter=100, random_state=122)\n",
        "svd_modeling.fit(x)\n",
        "components=svd_modeling.components_\n",
        "vocab = vect.get_feature_names_out()"
      ]
    },
    {
      "cell_type": "markdown",
      "metadata": {
        "id": "793afef7"
      },
      "source": [
        "## Visualize results\n",
        "\n",
        "### Subtask:\n",
        "Create scatter plots to visualize the data after applying PCA and SVD.\n"
      ]
    },
    {
      "cell_type": "markdown",
      "metadata": {
        "id": "07a85aeb"
      },
      "source": [
        "**Reasoning**:\n",
        "Generate scatter plots for the PCA and SVD reduced data as requested by the instructions.\n",
        "\n"
      ]
    },
    {
      "cell_type": "code",
      "execution_count": null,
      "metadata": {
        "colab": {
          "base_uri": "https://localhost:8080/",
          "height": 527
        },
        "id": "725ee659",
        "outputId": "8c63f674-5bdc-4903-f3b3-ff5aa11e4673"
      },
      "outputs": [
        {
          "data": {
            "image/png": "[encoded data removed]",
            "text/plain": [
              "<Figure size 1000x500 with 2 Axes>"
            ]
          },
          "metadata": {},
          "output_type": "display_data"
        }
      ],
      "source": [
        "import matplotlib.pyplot as plt\n",
        "\n",
        "# Create scatter plot for PCA-reduced data\n",
        "plt.figure(figsize=(10, 5))\n",
        "plt.subplot(1, 2, 1)\n",
        "plt.scatter(pca_result[:, 0], pca_result[:, 1])\n",
        "plt.xlabel('PCA Component 1')\n",
        "plt.ylabel('PCA Component 2')\n",
        "plt.title('PCA Reduced Data')\n",
        "\n",
        "# Create scatter plot for SVD-reduced data\n",
        "plt.subplot(1, 2, 2)\n",
        "plt.scatter(svd_result[:, 0], svd_result[:, 1])\n",
        "plt.xlabel('SVD Component 1')\n",
        "plt.ylabel('SVD Component 2')\n",
        "plt.title('SVD Reduced Data')\n",
        "\n",
        "# Display the plots\n",
        "plt.tight_layout()\n",
        "plt.show()"
      ]
    },
    {
      "cell_type": "markdown",
      "metadata": {
        "id": "6419f600"
      },
      "source": [
        "## Analyze efficiency\n",
        "\n",
        "### Subtask:\n",
        "Discuss the time and space complexity of PCA and SVD in the context of dimension reduction.\n"
      ]
    },
    {
      "cell_type": "markdown",
      "metadata": {
        "id": "f34e5e6f"
      },
      "source": [
        "**Reasoning**:\n",
        "Discuss the time and space complexity of PCA and SVD in the context of dimension reduction based on the instructions.\n",
        "\n"
      ]
    },
    {
      "cell_type": "code",
      "execution_count": null,
      "metadata": {
        "colab": {
          "base_uri": "https://localhost:8080/"
        },
        "id": "6882d1b2",
        "outputId": "c7052a70-de4f-4934-feb3-0bdce70c25c5"
      },
      "outputs": [
        {
          "name": "stdout",
          "output_type": "stream",
          "text": [
            "Time Complexity:\n",
            "PCA: The time complexity of PCA is dominated by the eigenvalue decomposition of the covariance matrix, which is O(min(m^2 * n, n^2 * m)) for an m x n matrix. When reducing to k dimensions, it can be approximately O(m * n^2) or O(n^3) if n < m, or O(m^2 * n) if m < n. For large sparse matrices, iterative methods can reduce this.\n",
            "SVD: The time complexity of SVD for an m x n matrix is generally O(m * n^2) if m >= n, or O(m^2 * n) if m < n. When computing only the top k singular values and vectors (as in TruncatedSVD), the complexity can be reduced to O(m * n * k) or even better with iterative methods, especially for sparse matrices.\n",
            "\n",
            "Space Complexity:\n",
            "PCA: PCA requires storing the covariance matrix (O(n^2)) and the eigenvectors (O(n^2)). The transformed data requires O(m * k) space.\n",
            "SVD: SVD requires storing the U, S, and V matrices. For an m x n matrix, this is O(m^2 + n^2). When computing only the top k components, the space complexity is reduced to O(m * k + n * k).\n",
            "\n",
            "Comparison:\n",
            "In scenarios where n (number of features) is much larger than m (number of samples), SVD, especially truncated SVD, can be more efficient in terms of time complexity compared to standard PCA, particularly with sparse data. For dense data and when n is not significantly larger than m, their complexities can be comparable. In terms of space complexity, truncated SVD generally has an advantage when k is much smaller than n, as it avoids computing and storing the full matrices.\n"
          ]
        }
      ],
      "source": [
        "# Discussion on Time and Space Complexity of PCA and SVD\n",
        "\n",
        "print(\"Time Complexity:\")\n",
        "print(\"PCA: The time complexity of PCA is dominated by the eigenvalue decomposition of the covariance matrix, which is O(min(m^2 * n, n^2 * m)) for an m x n matrix. When reducing to k dimensions, it can be approximately O(m * n^2) or O(n^3) if n < m, or O(m^2 * n) if m < n. For large sparse matrices, iterative methods can reduce this.\")\n",
        "print(\"SVD: The time complexity of SVD for an m x n matrix is generally O(m * n^2) if m >= n, or O(m^2 * n) if m < n. When computing only the top k singular values and vectors (as in TruncatedSVD), the complexity can be reduced to O(m * n * k) or even better with iterative methods, especially for sparse matrices.\")\n",
        "print(\"\\nSpace Complexity:\")\n",
        "print(\"PCA: PCA requires storing the covariance matrix (O(n^2)) and the eigenvectors (O(n^2)). The transformed data requires O(m * k) space.\")\n",
        "print(\"SVD: SVD requires storing the U, S, and V matrices. For an m x n matrix, this is O(m^2 + n^2). When computing only the top k components, the space complexity is reduced to O(m * k + n * k).\")\n",
        "print(\"\\nComparison:\")\n",
        "print(\"In scenarios where n (number of features) is much larger than m (number of samples), SVD, especially truncated SVD, can be more efficient in terms of time complexity compared to standard PCA, particularly with sparse data. For dense data and when n is not significantly larger than m, their complexities can be comparable. In terms of space complexity, truncated SVD generally has an advantage when k is much smaller than n, as it avoids computing and storing the full matrices.\")"
      ]
    },
    {
      "cell_type": "markdown",
      "metadata": {
        "id": "56821ff9"
      },
      "source": [
        "## Discuss clustering\n",
        "\n",
        "### Subtask:\n",
        "Analyze if clustering is improved after dimension reduction and explain why.\n"
      ]
    },
    {
      "cell_type": "markdown",
      "metadata": {
        "id": "afb72525"
      },
      "source": [
        "**Reasoning**:\n",
        "Discuss how dimensionality reduction impacts clustering, including benefits and drawbacks, and relate it to the Bag-of-Words dataset.\n",
        "\n"
      ]
    },
    {
      "cell_type": "code",
      "execution_count": null,
      "metadata": {
        "colab": {
          "base_uri": "https://localhost:8080/"
        },
        "id": "334b0543",
        "outputId": "a16b8364-524d-4dfb-c342-4295bcdf4305"
      },
      "outputs": [
        {
          "name": "stdout",
          "output_type": "stream",
          "text": [
            "Impact of Dimensionality Reduction on Clustering:\n",
            "\n",
            "1. Potential Benefits:\n",
            "- **Reduced Noise:** High-dimensional data often contains noise in irrelevant features. PCA and SVD can help remove this noise by focusing on the components that capture the most variance or information, potentially leading to clearer cluster separation.\n",
            "- **Reduced Computational Cost:** Clustering algorithms, especially distance-based ones like K-Means, can be computationally expensive in high dimensions. Reducing the number of features significantly reduces the number of calculations required for distance computations, making clustering faster and more scalable.\n",
            "- **Mitigating the Curse of Dimensionality:** In high-dimensional spaces, data points become sparse, and distances between points tend to become more uniform. This makes it difficult for distance-based clustering algorithms to effectively group similar points. Dimensionality reduction can project the data into a lower-dimensional space where distances are more meaningful and clusters are more discernible.\n",
            "- **Improved Visualization:** As seen in the previous step, reducing dimensions to 2 or 3 allows for easy visualization of the data and potential clusters using scatter plots, which is not possible in the original high-dimensional space.\n",
            "\n",
            "2. Potential Drawbacks:\n",
            "- **Loss of Information:** Dimensionality reduction methods like PCA and SVD achieve reduction by projecting data onto a lower-dimensional subspace. This process inherently involves some loss of information. If the removed dimensions contain crucial information for distinguishing clusters, the clustering performance might degrade.\n",
            "- **Difficulty in Choosing the Optimal Number of Dimensions:** Selecting the right number of components (k) to retain is crucial. Too few components might lead to significant information loss, while too many might not provide sufficient dimensionality reduction benefits.\n",
            "\n",
            "3. Relation to the Dummy Bag-of-Words Dataset:\n",
            "For our dummy Bag-of-Words dataset, the original features are the word counts. This is a sparse, high-dimensional representation. Reducing the dimensions using PCA or SVD transforms this word feature space into a lower-dimensional representation.\n",
            "In this specific, very small dataset, the impact on clustering might be limited due to the simplicity and small size. However, in a real-world scenario with a large vocabulary and many documents, dimensionality reduction would be highly beneficial.\n",
            "Reducing the dimensions would likely group documents based on their principal themes or topics (captured by the components), rather than individual word occurrences. This can help in clustering documents with similar content, even if they don't share the exact same words. However, if a rare but important word is the sole differentiator for a cluster, its impact might be diminished after reduction.\n",
            "Overall, for larger and more complex text datasets, dimensionality reduction is often a necessary preprocessing step for effective and efficient clustering.\n"
          ]
        }
      ],
      "source": [
        "# Discussion on the Impact of Dimensionality Reduction on Clustering\n",
        "\n",
        "print(\"Impact of Dimensionality Reduction on Clustering:\")\n",
        "print(\"\\n1. Potential Benefits:\")\n",
        "print(\"- **Reduced Noise:** High-dimensional data often contains noise in irrelevant features. PCA and SVD can help remove this noise by focusing on the components that capture the most variance or information, potentially leading to clearer cluster separation.\")\n",
        "print(\"- **Reduced Computational Cost:** Clustering algorithms, especially distance-based ones like K-Means, can be computationally expensive in high dimensions. Reducing the number of features significantly reduces the number of calculations required for distance computations, making clustering faster and more scalable.\")\n",
        "print(\"- **Mitigating the Curse of Dimensionality:** In high-dimensional spaces, data points become sparse, and distances between points tend to become more uniform. This makes it difficult for distance-based clustering algorithms to effectively group similar points. Dimensionality reduction can project the data into a lower-dimensional space where distances are more meaningful and clusters are more discernible.\")\n",
        "print(\"- **Improved Visualization:** As seen in the previous step, reducing dimensions to 2 or 3 allows for easy visualization of the data and potential clusters using scatter plots, which is not possible in the original high-dimensional space.\")\n",
        "\n",
        "print(\"\\n2. Potential Drawbacks:\")\n",
        "print(\"- **Loss of Information:** Dimensionality reduction methods like PCA and SVD achieve reduction by projecting data onto a lower-dimensional subspace. This process inherently involves some loss of information. If the removed dimensions contain crucial information for distinguishing clusters, the clustering performance might degrade.\")\n",
        "print(\"- **Difficulty in Choosing the Optimal Number of Dimensions:** Selecting the right number of components (k) to retain is crucial. Too few components might lead to significant information loss, while too many might not provide sufficient dimensionality reduction benefits.\")\n",
        "\n",
        "print(\"\\n3. Relation to the Dummy Bag-of-Words Dataset:\")\n",
        "print(\"For our dummy Bag-of-Words dataset, the original features are the word counts. This is a sparse, high-dimensional representation. Reducing the dimensions using PCA or SVD transforms this word feature space into a lower-dimensional representation.\")\n",
        "print(\"In this specific, very small dataset, the impact on clustering might be limited due to the simplicity and small size. However, in a real-world scenario with a large vocabulary and many documents, dimensionality reduction would be highly beneficial.\")\n",
        "print(\"Reducing the dimensions would likely group documents based on their principal themes or topics (captured by the components), rather than individual word occurrences. This can help in clustering documents with similar content, even if they don't share the exact same words. However, if a rare but important word is the sole differentiator for a cluster, its impact might be diminished after reduction.\")\n",
        "print(\"Overall, for larger and more complex text datasets, dimensionality reduction is often a necessary preprocessing step for effective and efficient clustering.\")"
      ]
    },
    {
      "cell_type": "markdown",
      "metadata": {
        "id": "29f8c2f6"
      },
      "source": [
        "## Explain nlp roles\n",
        "\n",
        "### Subtask:\n",
        "Describe the roles of PCA and SVD in Natural Language Processing (NLP) applications.\n"
      ]
    },
    {
      "cell_type": "markdown",
      "metadata": {
        "id": "8eb9aa4e"
      },
      "source": [
        "**Reasoning**:\n",
        "Describe the roles of PCA and SVD in NLP applications, covering their uses in text representation, feature extraction, topic modeling, and semantic analysis, and briefly compare their typical use cases in NLP.\n",
        "\n"
      ]
    },
    {
      "cell_type": "code",
      "execution_count": null,
      "metadata": {
        "colab": {
          "base_uri": "https://localhost:8080/"
        },
        "id": "503ad132",
        "outputId": "3f4bf666-f8ac-4691-98f2-03352cc9ae19"
      },
      "outputs": [
        {
          "name": "stdout",
          "output_type": "stream",
          "text": [
            "Roles of PCA and SVD in Natural Language Processing (NLP):\n",
            "\n",
            "1. Role of PCA in NLP:\n",
            "- **Text Representation and Feature Extraction:** PCA can be used to reduce the dimensionality of high-dimensional text representations like Bag-of-Words (BoW) or TF-IDF vectors. By identifying the principal components that capture the most variance in the data, PCA creates a lower-dimensional representation that retains the most important information while discarding noise. This reduced representation can be used as features for downstream NLP tasks like classification, clustering, or similarity analysis.\n",
            "- **Noise Reduction:** In text data, many words are irrelevant or have low frequency, contributing to noise in the representation. PCA can help in filtering out this noise by focusing on the directions of maximum variance, which are often associated with more meaningful patterns in the data.\n",
            "- **Data Visualization:** Reducing text data to 2 or 3 dimensions using PCA allows for visualization of the relationships between documents or words in a scatter plot, helping to gain insights into the data distribution and potential clusters.\n",
            "\n",
            "2. Role of SVD (and LSA/LSI) in NLP:\n",
            "- **Topic Modeling (LSA/LSI):** Singular Value Decomposition is the core mathematical technique behind Latent Semantic Analysis (LSA) or Latent Semantic Indexing (LSI). LSA applies SVD to the term-document matrix (a matrix where rows represent terms and columns represent documents, with entries indicating term frequency or TF-IDF). SVD decomposes this matrix into three matrices, revealing latent semantic relationships between terms and documents. The resulting lower-dimensional representation can be interpreted as topics, where each dimension corresponds to a topic, and documents and terms have loadings on these topics.\n",
            "- **Semantic Analysis and Similarity:** The lower-dimensional space created by LSA/LSI captures semantic relationships between words and documents. Words that appear in similar contexts will have similar representations in the reduced space, allowing for the calculation of semantic similarity between words or documents.\n",
            "- **Dimensionality Reduction:** Similar to PCA, SVD can be used to reduce the dimensionality of text data, which helps in mitigating the curse of dimensionality and improving the efficiency of subsequent NLP tasks.\n",
            "\n",
            "3. Comparison of Typical Use Cases/Advantages in NLP:\n",
            "- **Focus:** PCA primarily focuses on capturing the directions of maximum variance in the data, which can be useful for general dimensionality reduction and noise reduction in text representations. SVD, particularly in the context of LSA/LSI, is more directly applied to uncover latent semantic structures and topics within the text data.\n",
            "- **Interpretability:** While the components in PCA are linear combinations of the original features and can be hard to interpret directly as 'topics', the dimensions in LSA/LSI derived from SVD are often interpreted as latent topics, offering a degree of semantic interpretability.\n",
            "- **Handling Sparsity:** Truncated SVD is particularly well-suited for handling the sparse nature of text data (like BoW or TF-IDF matrices) efficiently, which is a common characteristic of NLP datasets.\n",
            "- **Common Applications:** PCA is often used as a general preprocessing step for dimensionality reduction before applying other machine learning algorithms. SVD (LSA/LSI) is specifically widely used for topic modeling, document similarity, and information retrieval.\n"
          ]
        }
      ],
      "source": [
        "# Discussion on the Roles of PCA and SVD in Natural Language Processing (NLP)\n",
        "\n",
        "print(\"Roles of PCA and SVD in Natural Language Processing (NLP):\\n\")\n",
        "\n",
        "print(\"1. Role of PCA in NLP:\")\n",
        "print(\"- **Text Representation and Feature Extraction:** PCA can be used to reduce the dimensionality of high-dimensional text representations like Bag-of-Words (BoW) or TF-IDF vectors. By identifying the principal components that capture the most variance in the data, PCA creates a lower-dimensional representation that retains the most important information while discarding noise. This reduced representation can be used as features for downstream NLP tasks like classification, clustering, or similarity analysis.\")\n",
        "print(\"- **Noise Reduction:** In text data, many words are irrelevant or have low frequency, contributing to noise in the representation. PCA can help in filtering out this noise by focusing on the directions of maximum variance, which are often associated with more meaningful patterns in the data.\")\n",
        "print(\"- **Data Visualization:** Reducing text data to 2 or 3 dimensions using PCA allows for visualization of the relationships between documents or words in a scatter plot, helping to gain insights into the data distribution and potential clusters.\")\n",
        "\n",
        "print(\"\\n2. Role of SVD (and LSA/LSI) in NLP:\")\n",
        "print(\"- **Topic Modeling (LSA/LSI):** Singular Value Decomposition is the core mathematical technique behind Latent Semantic Analysis (LSA) or Latent Semantic Indexing (LSI). LSA applies SVD to the term-document matrix (a matrix where rows represent terms and columns represent documents, with entries indicating term frequency or TF-IDF). SVD decomposes this matrix into three matrices, revealing latent semantic relationships between terms and documents. The resulting lower-dimensional representation can be interpreted as topics, where each dimension corresponds to a topic, and documents and terms have loadings on these topics.\")\n",
        "print(\"- **Semantic Analysis and Similarity:** The lower-dimensional space created by LSA/LSI captures semantic relationships between words and documents. Words that appear in similar contexts will have similar representations in the reduced space, allowing for the calculation of semantic similarity between words or documents.\")\n",
        "print(\"- **Dimensionality Reduction:** Similar to PCA, SVD can be used to reduce the dimensionality of text data, which helps in mitigating the curse of dimensionality and improving the efficiency of subsequent NLP tasks.\")\n",
        "\n",
        "print(\"\\n3. Comparison of Typical Use Cases/Advantages in NLP:\")\n",
        "print(\"- **Focus:** PCA primarily focuses on capturing the directions of maximum variance in the data, which can be useful for general dimensionality reduction and noise reduction in text representations. SVD, particularly in the context of LSA/LSI, is more directly applied to uncover latent semantic structures and topics within the text data.\")\n",
        "print(\"- **Interpretability:** While the components in PCA are linear combinations of the original features and can be hard to interpret directly as 'topics', the dimensions in LSA/LSI derived from SVD are often interpreted as latent topics, offering a degree of semantic interpretability.\")\n",
        "print(\"- **Handling Sparsity:** Truncated SVD is particularly well-suited for handling the sparse nature of text data (like BoW or TF-IDF matrices) efficiently, which is a common characteristic of NLP datasets.\")\n",
        "print(\"- **Common Applications:** PCA is often used as a general preprocessing step for dimensionality reduction before applying other machine learning algorithms. SVD (LSA/LSI) is specifically widely used for topic modeling, document similarity, and information retrieval.\")"
      ]
    },
    {
      "cell_type": "markdown",
      "metadata": {
        "id": "0a9650ea"
      },
      "source": [
        "## Summary:\n",
        "\n",
        "### Data Analysis Key Findings\n",
        "\n",
        "*   PCA and SVD were successfully applied to reduce the dimensionality of the dummy Bag-of-Words dataset from its original feature space to 2 dimensions.\n",
        "*   Scatter plots were generated, showing the distribution of the data points in the 2-dimensional space after applying both PCA and SVD. The visualizations help in understanding how the dimensionality reduction methods project the data.\n",
        "*   PCA's time complexity is primarily driven by eigenvalue decomposition, typically O(min(m² \\* n, n² \\* m)), while SVD's is generally O(m \\* n²) or O(m² \\* n), with truncated SVD being more efficient for sparse data and large feature sets (O(m \\* n \\* k)).\n",
        "*   Space complexity for PCA is O(n² + m \\* k) and for SVD is O(m² + n²), reducing to O(m \\* k + n \\* k) for truncated SVD, giving truncated SVD an advantage when the target dimension `k` is much smaller than the original features `n`.\n",
        "*   Dimensionality reduction can potentially improve clustering by reducing noise, lowering computational cost, mitigating the curse of dimensionality, and enabling visualization, although it risks information loss and requires careful selection of the number of components.\n",
        "*   In NLP, PCA is used for general dimensionality reduction, feature extraction from BoW/TF-IDF vectors, noise reduction, and visualization. SVD is fundamental to Latent Semantic Analysis (LSA/LSI) for topic modeling, semantic analysis, and handling sparse text data efficiently.\n",
        "\n",
        "### Insights or Next Steps\n",
        "\n",
        "*   For real-world NLP tasks with large, sparse text datasets, Truncated SVD (as used in LSA/LSI) is often preferred over standard PCA due to its efficiency in handling sparsity and its direct application in uncovering latent semantic relationships.\n",
        "*   Applying a clustering algorithm (e.g., K-Means) to the reduced datasets from both PCA and SVD and comparing the clustering results (e.g., using silhouette scores or visual inspection) would provide a practical evaluation of which reduction method is more effective for grouping the data points in this specific context.\n"
      ]
    }
  ],
  "metadata": {
    "colab": {
      "provenance": []
    },
    "kernelspec": {
      "display_name": ".conda",
      "language": "python",
      "name": "python3"
    },
    "language_info": {
      "codemirror_mode": {
        "name": "ipython",
        "version": 3
      },
      "file_extension": ".py",
      "mimetype": "text/x-python",
      "name": "python",
      "nbconvert_exporter": "python",
      "pygments_lexer": "ipython3",
      "version": "3.12.9"
    }
  },
  "nbformat": 4,
  "nbformat_minor": 0
}
